{
 "cells": [
  {
   "cell_type": "markdown",
   "metadata": {
    "id": "O8KwKA3CWeQJ"
   },
   "source": [
    "## NLP Assignment - Group 255\n",
    "\n",
    "| Name | StudentID  | Contribution  | \n",
    "|:--|:--|--:|\n",
    "| AMOGH SINGHAL | 2020SC04081 | 100% |\n",
    "| ABHAY DATTARAY THAPAN | 2020SC04431 | 100% |\n",
    "| AKSHIT AGRAWAL | 2020SC04956 | 100% |"
   ]
  },
  {
   "cell_type": "markdown",
   "metadata": {
    "id": "dzTLWowiuMjM"
   },
   "source": [
    "### Importing Libraries"
   ]
  },
  {
   "cell_type": "code",
   "execution_count": 1,
   "metadata": {
    "colab": {
     "base_uri": "https://localhost:8080/"
    },
    "id": "68Yc3LKyrutT",
    "outputId": "fc85b60a-369a-4aa8-d804-3dba58d9fc18"
   },
   "outputs": [
    {
     "name": "stdout",
     "output_type": "stream",
     "text": [
      "Tensorflow Version 2.8.2\n"
     ]
    },
    {
     "name": "stderr",
     "output_type": "stream",
     "text": [
      "[nltk_data] Downloading package stopwords to /root/nltk_data...\n",
      "[nltk_data]   Package stopwords is already up-to-date!\n"
     ]
    }
   ],
   "source": [
    "import tensorflow as tf\n",
    "import matplotlib.pyplot as plt\n",
    "import pandas as pd\n",
    "import numpy as np\n",
    "\n",
    "\n",
    "import nltk \n",
    "nltk.download('stopwords')\n",
    "from nltk.corpus import stopwords\n",
    "from nltk.stem import SnowballStemmer\n",
    "\n",
    "\n",
    "\n",
    "from sklearn.model_selection import train_test_split\n",
    "from sklearn.preprocessing import LabelEncoder\n",
    "\n",
    "\n",
    "import re\n",
    "\n",
    "print(\"Tensorflow Version\",tf.__version__)\n"
   ]
  },
  {
   "cell_type": "markdown",
   "metadata": {
    "id": "lGEE9VzuwP09"
   },
   "source": [
    "### About this file\n",
    "\n",
    "This is the sentiment140 dataset.\n",
    "It contains 1,600,000 tweets extracted using the twitter api . \n",
    "\n",
    "The tweets have been annotated (0 = negative, 2 = neutral, 4 = positive) and they can be used to detect sentiment .\n",
    "\n",
    "It contains the following 6 fields:\n",
    "\n",
    "1. `target`: the polarity of the tweet (0 = negative, 2 = neutral, 4 = positive)\n",
    "\n",
    "2. `ids`: The id of the tweet ( 2087)\n",
    "\n",
    "3. `date`: the date of the tweet (Sat May 16 23:58:44 UTC 2009)\n",
    "\n",
    "4. `flag`: The query (lyx). If there is no query, then this value is NO_QUERY.\n",
    "\n",
    "5. `user`: the user that tweeted (robotickilldozr)\n",
    "\n",
    "6. `text`: the text of the tweet (Lyx is cool)"
   ]
  },
  {
   "cell_type": "markdown",
   "metadata": {
    "id": "fFDHf8YotVtw"
   },
   "source": [
    "1. Read the .csv file and set it as a Dataframe called text_data. Check the head, info, and describe methods on the Dataframe(3 Marks)"
   ]
  },
  {
   "cell_type": "code",
   "execution_count": 2,
   "metadata": {
    "colab": {
     "base_uri": "https://localhost:8080/",
     "height": 241
    },
    "id": "lLe1jKoatxpf",
    "outputId": "6709bc87-4c79-44df-9739-ff9083556c19"
   },
   "outputs": [
    {
     "name": "stdout",
     "output_type": "stream",
     "text": [
      "Shape of text data BEFORE:  (1599999, 6)\n",
      "Shape of text data AFTER:  (1599999, 6)\n"
     ]
    },
    {
     "data": {
      "text/html": [
       "\n",
       "  <div id=\"df-6bc2ebad-4d68-4ccc-96d3-cab09b8edb49\">\n",
       "    <div class=\"colab-df-container\">\n",
       "      <div>\n",
       "<style scoped>\n",
       "    .dataframe tbody tr th:only-of-type {\n",
       "        vertical-align: middle;\n",
       "    }\n",
       "\n",
       "    .dataframe tbody tr th {\n",
       "        vertical-align: top;\n",
       "    }\n",
       "\n",
       "    .dataframe thead th {\n",
       "        text-align: right;\n",
       "    }\n",
       "</style>\n",
       "<table border=\"1\" class=\"dataframe\">\n",
       "  <thead>\n",
       "    <tr style=\"text-align: right;\">\n",
       "      <th></th>\n",
       "      <th>target</th>\n",
       "      <th>ids</th>\n",
       "      <th>date</th>\n",
       "      <th>flag</th>\n",
       "      <th>user</th>\n",
       "      <th>text</th>\n",
       "    </tr>\n",
       "  </thead>\n",
       "  <tbody>\n",
       "    <tr>\n",
       "      <th>0</th>\n",
       "      <td>0</td>\n",
       "      <td>1467810672</td>\n",
       "      <td>Mon Apr 06 22:19:49 PDT 2009</td>\n",
       "      <td>NO_QUERY</td>\n",
       "      <td>scotthamilton</td>\n",
       "      <td>is upset that he can't update his Facebook by ...</td>\n",
       "    </tr>\n",
       "    <tr>\n",
       "      <th>1</th>\n",
       "      <td>0</td>\n",
       "      <td>1467810917</td>\n",
       "      <td>Mon Apr 06 22:19:53 PDT 2009</td>\n",
       "      <td>NO_QUERY</td>\n",
       "      <td>mattycus</td>\n",
       "      <td>@Kenichan I dived many times for the ball. Man...</td>\n",
       "    </tr>\n",
       "    <tr>\n",
       "      <th>2</th>\n",
       "      <td>0</td>\n",
       "      <td>1467811184</td>\n",
       "      <td>Mon Apr 06 22:19:57 PDT 2009</td>\n",
       "      <td>NO_QUERY</td>\n",
       "      <td>ElleCTF</td>\n",
       "      <td>my whole body feels itchy and like its on fire</td>\n",
       "    </tr>\n",
       "    <tr>\n",
       "      <th>3</th>\n",
       "      <td>0</td>\n",
       "      <td>1467811193</td>\n",
       "      <td>Mon Apr 06 22:19:57 PDT 2009</td>\n",
       "      <td>NO_QUERY</td>\n",
       "      <td>Karoli</td>\n",
       "      <td>@nationwideclass no, it's not behaving at all....</td>\n",
       "    </tr>\n",
       "    <tr>\n",
       "      <th>4</th>\n",
       "      <td>0</td>\n",
       "      <td>1467811372</td>\n",
       "      <td>Mon Apr 06 22:20:00 PDT 2009</td>\n",
       "      <td>NO_QUERY</td>\n",
       "      <td>joy_wolf</td>\n",
       "      <td>@Kwesidei not the whole crew</td>\n",
       "    </tr>\n",
       "  </tbody>\n",
       "</table>\n",
       "</div>\n",
       "      <button class=\"colab-df-convert\" onclick=\"convertToInteractive('df-6bc2ebad-4d68-4ccc-96d3-cab09b8edb49')\"\n",
       "              title=\"Convert this dataframe to an interactive table.\"\n",
       "              style=\"display:none;\">\n",
       "        \n",
       "  <svg xmlns=\"http://www.w3.org/2000/svg\" height=\"24px\"viewBox=\"0 0 24 24\"\n",
       "       width=\"24px\">\n",
       "    <path d=\"M0 0h24v24H0V0z\" fill=\"none\"/>\n",
       "    <path d=\"M18.56 5.44l.94 2.06.94-2.06 2.06-.94-2.06-.94-.94-2.06-.94 2.06-2.06.94zm-11 1L8.5 8.5l.94-2.06 2.06-.94-2.06-.94L8.5 2.5l-.94 2.06-2.06.94zm10 10l.94 2.06.94-2.06 2.06-.94-2.06-.94-.94-2.06-.94 2.06-2.06.94z\"/><path d=\"M17.41 7.96l-1.37-1.37c-.4-.4-.92-.59-1.43-.59-.52 0-1.04.2-1.43.59L10.3 9.45l-7.72 7.72c-.78.78-.78 2.05 0 2.83L4 21.41c.39.39.9.59 1.41.59.51 0 1.02-.2 1.41-.59l7.78-7.78 2.81-2.81c.8-.78.8-2.07 0-2.86zM5.41 20L4 18.59l7.72-7.72 1.47 1.35L5.41 20z\"/>\n",
       "  </svg>\n",
       "      </button>\n",
       "      \n",
       "  <style>\n",
       "    .colab-df-container {\n",
       "      display:flex;\n",
       "      flex-wrap:wrap;\n",
       "      gap: 12px;\n",
       "    }\n",
       "\n",
       "    .colab-df-convert {\n",
       "      background-color: #E8F0FE;\n",
       "      border: none;\n",
       "      border-radius: 50%;\n",
       "      cursor: pointer;\n",
       "      display: none;\n",
       "      fill: #1967D2;\n",
       "      height: 32px;\n",
       "      padding: 0 0 0 0;\n",
       "      width: 32px;\n",
       "    }\n",
       "\n",
       "    .colab-df-convert:hover {\n",
       "      background-color: #E2EBFA;\n",
       "      box-shadow: 0px 1px 2px rgba(60, 64, 67, 0.3), 0px 1px 3px 1px rgba(60, 64, 67, 0.15);\n",
       "      fill: #174EA6;\n",
       "    }\n",
       "\n",
       "    [theme=dark] .colab-df-convert {\n",
       "      background-color: #3B4455;\n",
       "      fill: #D2E3FC;\n",
       "    }\n",
       "\n",
       "    [theme=dark] .colab-df-convert:hover {\n",
       "      background-color: #434B5C;\n",
       "      box-shadow: 0px 1px 3px 1px rgba(0, 0, 0, 0.15);\n",
       "      filter: drop-shadow(0px 1px 2px rgba(0, 0, 0, 0.3));\n",
       "      fill: #FFFFFF;\n",
       "    }\n",
       "  </style>\n",
       "\n",
       "      <script>\n",
       "        const buttonEl =\n",
       "          document.querySelector('#df-6bc2ebad-4d68-4ccc-96d3-cab09b8edb49 button.colab-df-convert');\n",
       "        buttonEl.style.display =\n",
       "          google.colab.kernel.accessAllowed ? 'block' : 'none';\n",
       "\n",
       "        async function convertToInteractive(key) {\n",
       "          const element = document.querySelector('#df-6bc2ebad-4d68-4ccc-96d3-cab09b8edb49');\n",
       "          const dataTable =\n",
       "            await google.colab.kernel.invokeFunction('convertToInteractive',\n",
       "                                                     [key], {});\n",
       "          if (!dataTable) return;\n",
       "\n",
       "          const docLinkHtml = 'Like what you see? Visit the ' +\n",
       "            '<a target=\"_blank\" href=https://colab.research.google.com/notebooks/data_table.ipynb>data table notebook</a>'\n",
       "            + ' to learn more about interactive tables.';\n",
       "          element.innerHTML = '';\n",
       "          dataTable['output_type'] = 'display_data';\n",
       "          await google.colab.output.renderOutput(dataTable, element);\n",
       "          const docLink = document.createElement('div');\n",
       "          docLink.innerHTML = docLinkHtml;\n",
       "          element.appendChild(docLink);\n",
       "        }\n",
       "      </script>\n",
       "    </div>\n",
       "  </div>\n",
       "  "
      ],
      "text/plain": [
       "   target         ids                          date      flag           user  \\\n",
       "0       0  1467810672  Mon Apr 06 22:19:49 PDT 2009  NO_QUERY  scotthamilton   \n",
       "1       0  1467810917  Mon Apr 06 22:19:53 PDT 2009  NO_QUERY       mattycus   \n",
       "2       0  1467811184  Mon Apr 06 22:19:57 PDT 2009  NO_QUERY        ElleCTF   \n",
       "3       0  1467811193  Mon Apr 06 22:19:57 PDT 2009  NO_QUERY         Karoli   \n",
       "4       0  1467811372  Mon Apr 06 22:20:00 PDT 2009  NO_QUERY       joy_wolf   \n",
       "\n",
       "                                                text  \n",
       "0  is upset that he can't update his Facebook by ...  \n",
       "1  @Kenichan I dived many times for the ball. Man...  \n",
       "2    my whole body feels itchy and like its on fire   \n",
       "3  @nationwideclass no, it's not behaving at all....  \n",
       "4                      @Kwesidei not the whole crew   "
      ]
     },
     "execution_count": 2,
     "metadata": {},
     "output_type": "execute_result"
    }
   ],
   "source": [
    "file_path = \"/content/drive/MyDrive/NLP-data/training.1600000.processed.noemoticon.csv\"\n",
    "text_data = pd.read_csv(file_path, encoding = 'latin-1')\n",
    "print(\"Shape of text data BEFORE: \", text_data.shape)\n",
    "text_data.dropna(how=\"any\", inplace=True, axis=1)\n",
    "print(\"Shape of text data AFTER: \", text_data.shape)\n",
    "text_data.columns = ['target', 'ids', 'date', 'flag', 'user', 'text']\n",
    "text_data.head()"
   ]
  },
  {
   "cell_type": "code",
   "execution_count": 3,
   "metadata": {
    "colab": {
     "base_uri": "https://localhost:8080/"
    },
    "id": "JpOsBATHxX8Y",
    "outputId": "dd14dbd3-15d9-4997-80a2-01e83f21a3cf"
   },
   "outputs": [
    {
     "name": "stdout",
     "output_type": "stream",
     "text": [
      "Shape of text data:  (1599999, 6)\n"
     ]
    }
   ],
   "source": [
    "print(\"Shape of text data: \",text_data.shape)"
   ]
  },
  {
   "cell_type": "code",
   "execution_count": 4,
   "metadata": {
    "colab": {
     "base_uri": "https://localhost:8080/"
    },
    "id": "kxzGl_9jxa2S",
    "outputId": "aac50b4e-9b4a-433e-a87c-4b2f67ec9fc4"
   },
   "outputs": [
    {
     "name": "stdout",
     "output_type": "stream",
     "text": [
      "<class 'pandas.core.frame.DataFrame'>\n",
      "RangeIndex: 1599999 entries, 0 to 1599998\n",
      "Data columns (total 6 columns):\n",
      " #   Column  Non-Null Count    Dtype \n",
      "---  ------  --------------    ----- \n",
      " 0   target  1599999 non-null  int64 \n",
      " 1   ids     1599999 non-null  int64 \n",
      " 2   date    1599999 non-null  object\n",
      " 3   flag    1599999 non-null  object\n",
      " 4   user    1599999 non-null  object\n",
      " 5   text    1599999 non-null  object\n",
      "dtypes: int64(2), object(4)\n",
      "memory usage: 73.2+ MB\n"
     ]
    }
   ],
   "source": [
    "text_data.info()"
   ]
  },
  {
   "cell_type": "code",
   "execution_count": 5,
   "metadata": {
    "colab": {
     "base_uri": "https://localhost:8080/",
     "height": 338
    },
    "id": "fw8dLf1bxmKY",
    "outputId": "fa769659-f25f-49a1-a381-52518a19c643"
   },
   "outputs": [
    {
     "data": {
      "text/html": [
       "\n",
       "  <div id=\"df-038d17f1-d31e-4732-a585-f39e6d75bd1c\">\n",
       "    <div class=\"colab-df-container\">\n",
       "      <div>\n",
       "<style scoped>\n",
       "    .dataframe tbody tr th:only-of-type {\n",
       "        vertical-align: middle;\n",
       "    }\n",
       "\n",
       "    .dataframe tbody tr th {\n",
       "        vertical-align: top;\n",
       "    }\n",
       "\n",
       "    .dataframe thead tr th {\n",
       "        text-align: left;\n",
       "    }\n",
       "\n",
       "    .dataframe thead tr:last-of-type th {\n",
       "        text-align: right;\n",
       "    }\n",
       "</style>\n",
       "<table border=\"1\" class=\"dataframe\">\n",
       "  <thead>\n",
       "    <tr>\n",
       "      <th></th>\n",
       "      <th colspan=\"10\" halign=\"left\">ids</th>\n",
       "      <th>...</th>\n",
       "      <th colspan=\"10\" halign=\"left\">text</th>\n",
       "    </tr>\n",
       "    <tr>\n",
       "      <th></th>\n",
       "      <th>count</th>\n",
       "      <th>unique</th>\n",
       "      <th>top</th>\n",
       "      <th>freq</th>\n",
       "      <th>mean</th>\n",
       "      <th>std</th>\n",
       "      <th>min</th>\n",
       "      <th>25%</th>\n",
       "      <th>50%</th>\n",
       "      <th>75%</th>\n",
       "      <th>...</th>\n",
       "      <th>unique</th>\n",
       "      <th>top</th>\n",
       "      <th>freq</th>\n",
       "      <th>mean</th>\n",
       "      <th>std</th>\n",
       "      <th>min</th>\n",
       "      <th>25%</th>\n",
       "      <th>50%</th>\n",
       "      <th>75%</th>\n",
       "      <th>max</th>\n",
       "    </tr>\n",
       "    <tr>\n",
       "      <th>target</th>\n",
       "      <th></th>\n",
       "      <th></th>\n",
       "      <th></th>\n",
       "      <th></th>\n",
       "      <th></th>\n",
       "      <th></th>\n",
       "      <th></th>\n",
       "      <th></th>\n",
       "      <th></th>\n",
       "      <th></th>\n",
       "      <th></th>\n",
       "      <th></th>\n",
       "      <th></th>\n",
       "      <th></th>\n",
       "      <th></th>\n",
       "      <th></th>\n",
       "      <th></th>\n",
       "      <th></th>\n",
       "      <th></th>\n",
       "      <th></th>\n",
       "      <th></th>\n",
       "    </tr>\n",
       "  </thead>\n",
       "  <tbody>\n",
       "    <tr>\n",
       "      <th>0</th>\n",
       "      <td>799999.0</td>\n",
       "      <td>NaN</td>\n",
       "      <td>NaN</td>\n",
       "      <td>NaN</td>\n",
       "      <td>2.049458e+09</td>\n",
       "      <td>2.025839e+08</td>\n",
       "      <td>1.467811e+09</td>\n",
       "      <td>1.971571e+09</td>\n",
       "      <td>2.057298e+09</td>\n",
       "      <td>2.220801e+09</td>\n",
       "      <td>...</td>\n",
       "      <td>790184</td>\n",
       "      <td>isPlayer Has Died! Sorry</td>\n",
       "      <td>210</td>\n",
       "      <td>NaN</td>\n",
       "      <td>NaN</td>\n",
       "      <td>NaN</td>\n",
       "      <td>NaN</td>\n",
       "      <td>NaN</td>\n",
       "      <td>NaN</td>\n",
       "      <td>NaN</td>\n",
       "    </tr>\n",
       "    <tr>\n",
       "      <th>4</th>\n",
       "      <td>800000.0</td>\n",
       "      <td>NaN</td>\n",
       "      <td>NaN</td>\n",
       "      <td>NaN</td>\n",
       "      <td>1.948178e+09</td>\n",
       "      <td>1.696291e+08</td>\n",
       "      <td>1.467822e+09</td>\n",
       "      <td>1.879943e+09</td>\n",
       "      <td>1.985419e+09</td>\n",
       "      <td>2.054322e+09</td>\n",
       "      <td>...</td>\n",
       "      <td>793506</td>\n",
       "      <td>good morning</td>\n",
       "      <td>118</td>\n",
       "      <td>NaN</td>\n",
       "      <td>NaN</td>\n",
       "      <td>NaN</td>\n",
       "      <td>NaN</td>\n",
       "      <td>NaN</td>\n",
       "      <td>NaN</td>\n",
       "      <td>NaN</td>\n",
       "    </tr>\n",
       "  </tbody>\n",
       "</table>\n",
       "<p>2 rows × 55 columns</p>\n",
       "</div>\n",
       "      <button class=\"colab-df-convert\" onclick=\"convertToInteractive('df-038d17f1-d31e-4732-a585-f39e6d75bd1c')\"\n",
       "              title=\"Convert this dataframe to an interactive table.\"\n",
       "              style=\"display:none;\">\n",
       "        \n",
       "  <svg xmlns=\"http://www.w3.org/2000/svg\" height=\"24px\"viewBox=\"0 0 24 24\"\n",
       "       width=\"24px\">\n",
       "    <path d=\"M0 0h24v24H0V0z\" fill=\"none\"/>\n",
       "    <path d=\"M18.56 5.44l.94 2.06.94-2.06 2.06-.94-2.06-.94-.94-2.06-.94 2.06-2.06.94zm-11 1L8.5 8.5l.94-2.06 2.06-.94-2.06-.94L8.5 2.5l-.94 2.06-2.06.94zm10 10l.94 2.06.94-2.06 2.06-.94-2.06-.94-.94-2.06-.94 2.06-2.06.94z\"/><path d=\"M17.41 7.96l-1.37-1.37c-.4-.4-.92-.59-1.43-.59-.52 0-1.04.2-1.43.59L10.3 9.45l-7.72 7.72c-.78.78-.78 2.05 0 2.83L4 21.41c.39.39.9.59 1.41.59.51 0 1.02-.2 1.41-.59l7.78-7.78 2.81-2.81c.8-.78.8-2.07 0-2.86zM5.41 20L4 18.59l7.72-7.72 1.47 1.35L5.41 20z\"/>\n",
       "  </svg>\n",
       "      </button>\n",
       "      \n",
       "  <style>\n",
       "    .colab-df-container {\n",
       "      display:flex;\n",
       "      flex-wrap:wrap;\n",
       "      gap: 12px;\n",
       "    }\n",
       "\n",
       "    .colab-df-convert {\n",
       "      background-color: #E8F0FE;\n",
       "      border: none;\n",
       "      border-radius: 50%;\n",
       "      cursor: pointer;\n",
       "      display: none;\n",
       "      fill: #1967D2;\n",
       "      height: 32px;\n",
       "      padding: 0 0 0 0;\n",
       "      width: 32px;\n",
       "    }\n",
       "\n",
       "    .colab-df-convert:hover {\n",
       "      background-color: #E2EBFA;\n",
       "      box-shadow: 0px 1px 2px rgba(60, 64, 67, 0.3), 0px 1px 3px 1px rgba(60, 64, 67, 0.15);\n",
       "      fill: #174EA6;\n",
       "    }\n",
       "\n",
       "    [theme=dark] .colab-df-convert {\n",
       "      background-color: #3B4455;\n",
       "      fill: #D2E3FC;\n",
       "    }\n",
       "\n",
       "    [theme=dark] .colab-df-convert:hover {\n",
       "      background-color: #434B5C;\n",
       "      box-shadow: 0px 1px 3px 1px rgba(0, 0, 0, 0.15);\n",
       "      filter: drop-shadow(0px 1px 2px rgba(0, 0, 0, 0.3));\n",
       "      fill: #FFFFFF;\n",
       "    }\n",
       "  </style>\n",
       "\n",
       "      <script>\n",
       "        const buttonEl =\n",
       "          document.querySelector('#df-038d17f1-d31e-4732-a585-f39e6d75bd1c button.colab-df-convert');\n",
       "        buttonEl.style.display =\n",
       "          google.colab.kernel.accessAllowed ? 'block' : 'none';\n",
       "\n",
       "        async function convertToInteractive(key) {\n",
       "          const element = document.querySelector('#df-038d17f1-d31e-4732-a585-f39e6d75bd1c');\n",
       "          const dataTable =\n",
       "            await google.colab.kernel.invokeFunction('convertToInteractive',\n",
       "                                                     [key], {});\n",
       "          if (!dataTable) return;\n",
       "\n",
       "          const docLinkHtml = 'Like what you see? Visit the ' +\n",
       "            '<a target=\"_blank\" href=https://colab.research.google.com/notebooks/data_table.ipynb>data table notebook</a>'\n",
       "            + ' to learn more about interactive tables.';\n",
       "          element.innerHTML = '';\n",
       "          dataTable['output_type'] = 'display_data';\n",
       "          await google.colab.output.renderOutput(dataTable, element);\n",
       "          const docLink = document.createElement('div');\n",
       "          docLink.innerHTML = docLinkHtml;\n",
       "          element.appendChild(docLink);\n",
       "        }\n",
       "      </script>\n",
       "    </div>\n",
       "  </div>\n",
       "  "
      ],
      "text/plain": [
       "             ids                                                            \\\n",
       "           count unique top freq          mean           std           min   \n",
       "target                                                                       \n",
       "0       799999.0    NaN NaN  NaN  2.049458e+09  2.025839e+08  1.467811e+09   \n",
       "4       800000.0    NaN NaN  NaN  1.948178e+09  1.696291e+08  1.467822e+09   \n",
       "\n",
       "                                                  ...    text  \\\n",
       "                 25%           50%           75%  ...  unique   \n",
       "target                                            ...           \n",
       "0       1.971571e+09  2.057298e+09  2.220801e+09  ...  790184   \n",
       "4       1.879943e+09  1.985419e+09  2.054322e+09  ...  793506   \n",
       "\n",
       "                                                                           \n",
       "                              top freq mean  std  min  25%  50%  75%  max  \n",
       "target                                                                     \n",
       "0       isPlayer Has Died! Sorry   210  NaN  NaN  NaN  NaN  NaN  NaN  NaN  \n",
       "4                   good morning   118  NaN  NaN  NaN  NaN  NaN  NaN  NaN  \n",
       "\n",
       "[2 rows x 55 columns]"
      ]
     },
     "execution_count": 5,
     "metadata": {},
     "output_type": "execute_result"
    }
   ],
   "source": [
    "text_data.groupby('target').describe(include='all')"
   ]
  },
  {
   "cell_type": "code",
   "execution_count": 6,
   "metadata": {
    "colab": {
     "base_uri": "https://localhost:8080/",
     "height": 428
    },
    "id": "6wenqHuOW6ip",
    "outputId": "bb01c58f-a0bf-414e-8afa-b86eb86da8d0"
   },
   "outputs": [
    {
     "data": {
      "text/plain": [
       "<matplotlib.axes._subplots.AxesSubplot at 0x7f3d37201950>"
      ]
     },
     "execution_count": 6,
     "metadata": {},
     "output_type": "execute_result"
    },
    {
     "data": {
      "image/png": "[encoded data removed]",
      "text/plain": [
       "<Figure size 504x504 with 1 Axes>"
      ]
     },
     "metadata": {},
     "output_type": "display_data"
    }
   ],
   "source": [
    "def plot_pie(dataset, target, size=(7,7)):\n",
    "    return dataset[target].value_counts().plot.pie(autopct = '%1.2f%%', figsize=size)\n",
    "\n",
    "plot_pie(text_data, 'target')\n",
    "# The data is fairly balanced. There is a 50-50 ratio for positive and negative sentiments"
   ]
  },
  {
   "cell_type": "code",
   "execution_count": 7,
   "metadata": {
    "colab": {
     "base_uri": "https://localhost:8080/"
    },
    "id": "PeuHnqB0yolA",
    "outputId": "311abc80-5f22-45b9-a448-d80ba145e673"
   },
   "outputs": [
    {
     "data": {
      "text/plain": [
       "4    800000\n",
       "0    799999\n",
       "Name: target, dtype: int64"
      ]
     },
     "execution_count": 7,
     "metadata": {},
     "output_type": "execute_result"
    }
   ],
   "source": [
    "# There is a 50-50 ratio for positive and negative sentiments\n",
    "text_data['target'].value_counts()"
   ]
  },
  {
   "cell_type": "code",
   "execution_count": 8,
   "metadata": {
    "colab": {
     "base_uri": "https://localhost:8080/",
     "height": 206
    },
    "id": "J6Hp3BlYy0IF",
    "outputId": "8a0f82c2-a310-4a9a-d808-f06ef9dfe283"
   },
   "outputs": [
    {
     "data": {
      "text/html": [
       "\n",
       "  <div id=\"df-84e93268-92f6-43fc-8728-00ba271c8915\">\n",
       "    <div class=\"colab-df-container\">\n",
       "      <div>\n",
       "<style scoped>\n",
       "    .dataframe tbody tr th:only-of-type {\n",
       "        vertical-align: middle;\n",
       "    }\n",
       "\n",
       "    .dataframe tbody tr th {\n",
       "        vertical-align: top;\n",
       "    }\n",
       "\n",
       "    .dataframe thead th {\n",
       "        text-align: right;\n",
       "    }\n",
       "</style>\n",
       "<table border=\"1\" class=\"dataframe\">\n",
       "  <thead>\n",
       "    <tr style=\"text-align: right;\">\n",
       "      <th></th>\n",
       "      <th>target</th>\n",
       "      <th>ids</th>\n",
       "      <th>date</th>\n",
       "      <th>flag</th>\n",
       "      <th>user</th>\n",
       "      <th>text</th>\n",
       "    </tr>\n",
       "  </thead>\n",
       "  <tbody>\n",
       "    <tr>\n",
       "      <th>0</th>\n",
       "      <td>Negative</td>\n",
       "      <td>1467810672</td>\n",
       "      <td>Mon Apr 06 22:19:49 PDT 2009</td>\n",
       "      <td>NO_QUERY</td>\n",
       "      <td>scotthamilton</td>\n",
       "      <td>is upset that he can't update his Facebook by ...</td>\n",
       "    </tr>\n",
       "    <tr>\n",
       "      <th>1</th>\n",
       "      <td>Negative</td>\n",
       "      <td>1467810917</td>\n",
       "      <td>Mon Apr 06 22:19:53 PDT 2009</td>\n",
       "      <td>NO_QUERY</td>\n",
       "      <td>mattycus</td>\n",
       "      <td>@Kenichan I dived many times for the ball. Man...</td>\n",
       "    </tr>\n",
       "    <tr>\n",
       "      <th>2</th>\n",
       "      <td>Negative</td>\n",
       "      <td>1467811184</td>\n",
       "      <td>Mon Apr 06 22:19:57 PDT 2009</td>\n",
       "      <td>NO_QUERY</td>\n",
       "      <td>ElleCTF</td>\n",
       "      <td>my whole body feels itchy and like its on fire</td>\n",
       "    </tr>\n",
       "    <tr>\n",
       "      <th>3</th>\n",
       "      <td>Negative</td>\n",
       "      <td>1467811193</td>\n",
       "      <td>Mon Apr 06 22:19:57 PDT 2009</td>\n",
       "      <td>NO_QUERY</td>\n",
       "      <td>Karoli</td>\n",
       "      <td>@nationwideclass no, it's not behaving at all....</td>\n",
       "    </tr>\n",
       "    <tr>\n",
       "      <th>4</th>\n",
       "      <td>Negative</td>\n",
       "      <td>1467811372</td>\n",
       "      <td>Mon Apr 06 22:20:00 PDT 2009</td>\n",
       "      <td>NO_QUERY</td>\n",
       "      <td>joy_wolf</td>\n",
       "      <td>@Kwesidei not the whole crew</td>\n",
       "    </tr>\n",
       "  </tbody>\n",
       "</table>\n",
       "</div>\n",
       "      <button class=\"colab-df-convert\" onclick=\"convertToInteractive('df-84e93268-92f6-43fc-8728-00ba271c8915')\"\n",
       "              title=\"Convert this dataframe to an interactive table.\"\n",
       "              style=\"display:none;\">\n",
       "        \n",
       "  <svg xmlns=\"http://www.w3.org/2000/svg\" height=\"24px\"viewBox=\"0 0 24 24\"\n",
       "       width=\"24px\">\n",
       "    <path d=\"M0 0h24v24H0V0z\" fill=\"none\"/>\n",
       "    <path d=\"M18.56 5.44l.94 2.06.94-2.06 2.06-.94-2.06-.94-.94-2.06-.94 2.06-2.06.94zm-11 1L8.5 8.5l.94-2.06 2.06-.94-2.06-.94L8.5 2.5l-.94 2.06-2.06.94zm10 10l.94 2.06.94-2.06 2.06-.94-2.06-.94-.94-2.06-.94 2.06-2.06.94z\"/><path d=\"M17.41 7.96l-1.37-1.37c-.4-.4-.92-.59-1.43-.59-.52 0-1.04.2-1.43.59L10.3 9.45l-7.72 7.72c-.78.78-.78 2.05 0 2.83L4 21.41c.39.39.9.59 1.41.59.51 0 1.02-.2 1.41-.59l7.78-7.78 2.81-2.81c.8-.78.8-2.07 0-2.86zM5.41 20L4 18.59l7.72-7.72 1.47 1.35L5.41 20z\"/>\n",
       "  </svg>\n",
       "      </button>\n",
       "      \n",
       "  <style>\n",
       "    .colab-df-container {\n",
       "      display:flex;\n",
       "      flex-wrap:wrap;\n",
       "      gap: 12px;\n",
       "    }\n",
       "\n",
       "    .colab-df-convert {\n",
       "      background-color: #E8F0FE;\n",
       "      border: none;\n",
       "      border-radius: 50%;\n",
       "      cursor: pointer;\n",
       "      display: none;\n",
       "      fill: #1967D2;\n",
       "      height: 32px;\n",
       "      padding: 0 0 0 0;\n",
       "      width: 32px;\n",
       "    }\n",
       "\n",
       "    .colab-df-convert:hover {\n",
       "      background-color: #E2EBFA;\n",
       "      box-shadow: 0px 1px 2px rgba(60, 64, 67, 0.3), 0px 1px 3px 1px rgba(60, 64, 67, 0.15);\n",
       "      fill: #174EA6;\n",
       "    }\n",
       "\n",
       "    [theme=dark] .colab-df-convert {\n",
       "      background-color: #3B4455;\n",
       "      fill: #D2E3FC;\n",
       "    }\n",
       "\n",
       "    [theme=dark] .colab-df-convert:hover {\n",
       "      background-color: #434B5C;\n",
       "      box-shadow: 0px 1px 3px 1px rgba(0, 0, 0, 0.15);\n",
       "      filter: drop-shadow(0px 1px 2px rgba(0, 0, 0, 0.3));\n",
       "      fill: #FFFFFF;\n",
       "    }\n",
       "  </style>\n",
       "\n",
       "      <script>\n",
       "        const buttonEl =\n",
       "          document.querySelector('#df-84e93268-92f6-43fc-8728-00ba271c8915 button.colab-df-convert');\n",
       "        buttonEl.style.display =\n",
       "          google.colab.kernel.accessAllowed ? 'block' : 'none';\n",
       "\n",
       "        async function convertToInteractive(key) {\n",
       "          const element = document.querySelector('#df-84e93268-92f6-43fc-8728-00ba271c8915');\n",
       "          const dataTable =\n",
       "            await google.colab.kernel.invokeFunction('convertToInteractive',\n",
       "                                                     [key], {});\n",
       "          if (!dataTable) return;\n",
       "\n",
       "          const docLinkHtml = 'Like what you see? Visit the ' +\n",
       "            '<a target=\"_blank\" href=https://colab.research.google.com/notebooks/data_table.ipynb>data table notebook</a>'\n",
       "            + ' to learn more about interactive tables.';\n",
       "          element.innerHTML = '';\n",
       "          dataTable['output_type'] = 'display_data';\n",
       "          await google.colab.output.renderOutput(dataTable, element);\n",
       "          const docLink = document.createElement('div');\n",
       "          docLink.innerHTML = docLinkHtml;\n",
       "          element.appendChild(docLink);\n",
       "        }\n",
       "      </script>\n",
       "    </div>\n",
       "  </div>\n",
       "  "
      ],
      "text/plain": [
       "     target         ids                          date      flag  \\\n",
       "0  Negative  1467810672  Mon Apr 06 22:19:49 PDT 2009  NO_QUERY   \n",
       "1  Negative  1467810917  Mon Apr 06 22:19:53 PDT 2009  NO_QUERY   \n",
       "2  Negative  1467811184  Mon Apr 06 22:19:57 PDT 2009  NO_QUERY   \n",
       "3  Negative  1467811193  Mon Apr 06 22:19:57 PDT 2009  NO_QUERY   \n",
       "4  Negative  1467811372  Mon Apr 06 22:20:00 PDT 2009  NO_QUERY   \n",
       "\n",
       "            user                                               text  \n",
       "0  scotthamilton  is upset that he can't update his Facebook by ...  \n",
       "1       mattycus  @Kenichan I dived many times for the ball. Man...  \n",
       "2        ElleCTF    my whole body feels itchy and like its on fire   \n",
       "3         Karoli  @nationwideclass no, it's not behaving at all....  \n",
       "4       joy_wolf                      @Kwesidei not the whole crew   "
      ]
     },
     "execution_count": 8,
     "metadata": {},
     "output_type": "execute_result"
    }
   ],
   "source": [
    "# converting numerical sentiment to categories\n",
    "num_to_emot = {0:\"Negative\", 4:\"Positive\"}\n",
    "def label_decoder(label):\n",
    "  return num_to_emot[label]\n",
    "\n",
    "text_data['target'] = text_data['target'].apply(lambda x: label_decoder(x))\n",
    "text_data.head()"
   ]
  },
  {
   "cell_type": "code",
   "execution_count": 9,
   "metadata": {
    "colab": {
     "base_uri": "https://localhost:8080/",
     "height": 206
    },
    "id": "wVAP-ltdfgFn",
    "outputId": "23fa6284-0e54-43b6-be6e-a54fac7ab37b"
   },
   "outputs": [
    {
     "data": {
      "text/html": [
       "\n",
       "  <div id=\"df-45349d81-ee85-438e-87dd-ac0e44bfa34e\">\n",
       "    <div class=\"colab-df-container\">\n",
       "      <div>\n",
       "<style scoped>\n",
       "    .dataframe tbody tr th:only-of-type {\n",
       "        vertical-align: middle;\n",
       "    }\n",
       "\n",
       "    .dataframe tbody tr th {\n",
       "        vertical-align: top;\n",
       "    }\n",
       "\n",
       "    .dataframe thead th {\n",
       "        text-align: right;\n",
       "    }\n",
       "</style>\n",
       "<table border=\"1\" class=\"dataframe\">\n",
       "  <thead>\n",
       "    <tr style=\"text-align: right;\">\n",
       "      <th></th>\n",
       "      <th>target</th>\n",
       "      <th>ids</th>\n",
       "      <th>date</th>\n",
       "      <th>flag</th>\n",
       "      <th>user</th>\n",
       "      <th>text</th>\n",
       "      <th>tweet_len</th>\n",
       "    </tr>\n",
       "  </thead>\n",
       "  <tbody>\n",
       "    <tr>\n",
       "      <th>0</th>\n",
       "      <td>Negative</td>\n",
       "      <td>1467810672</td>\n",
       "      <td>Mon Apr 06 22:19:49 PDT 2009</td>\n",
       "      <td>NO_QUERY</td>\n",
       "      <td>scotthamilton</td>\n",
       "      <td>is upset that he can't update his Facebook by ...</td>\n",
       "      <td>111</td>\n",
       "    </tr>\n",
       "    <tr>\n",
       "      <th>1</th>\n",
       "      <td>Negative</td>\n",
       "      <td>1467810917</td>\n",
       "      <td>Mon Apr 06 22:19:53 PDT 2009</td>\n",
       "      <td>NO_QUERY</td>\n",
       "      <td>mattycus</td>\n",
       "      <td>@Kenichan I dived many times for the ball. Man...</td>\n",
       "      <td>89</td>\n",
       "    </tr>\n",
       "    <tr>\n",
       "      <th>2</th>\n",
       "      <td>Negative</td>\n",
       "      <td>1467811184</td>\n",
       "      <td>Mon Apr 06 22:19:57 PDT 2009</td>\n",
       "      <td>NO_QUERY</td>\n",
       "      <td>ElleCTF</td>\n",
       "      <td>my whole body feels itchy and like its on fire</td>\n",
       "      <td>47</td>\n",
       "    </tr>\n",
       "    <tr>\n",
       "      <th>3</th>\n",
       "      <td>Negative</td>\n",
       "      <td>1467811193</td>\n",
       "      <td>Mon Apr 06 22:19:57 PDT 2009</td>\n",
       "      <td>NO_QUERY</td>\n",
       "      <td>Karoli</td>\n",
       "      <td>@nationwideclass no, it's not behaving at all....</td>\n",
       "      <td>111</td>\n",
       "    </tr>\n",
       "    <tr>\n",
       "      <th>4</th>\n",
       "      <td>Negative</td>\n",
       "      <td>1467811372</td>\n",
       "      <td>Mon Apr 06 22:20:00 PDT 2009</td>\n",
       "      <td>NO_QUERY</td>\n",
       "      <td>joy_wolf</td>\n",
       "      <td>@Kwesidei not the whole crew</td>\n",
       "      <td>29</td>\n",
       "    </tr>\n",
       "  </tbody>\n",
       "</table>\n",
       "</div>\n",
       "      <button class=\"colab-df-convert\" onclick=\"convertToInteractive('df-45349d81-ee85-438e-87dd-ac0e44bfa34e')\"\n",
       "              title=\"Convert this dataframe to an interactive table.\"\n",
       "              style=\"display:none;\">\n",
       "        \n",
       "  <svg xmlns=\"http://www.w3.org/2000/svg\" height=\"24px\"viewBox=\"0 0 24 24\"\n",
       "       width=\"24px\">\n",
       "    <path d=\"M0 0h24v24H0V0z\" fill=\"none\"/>\n",
       "    <path d=\"M18.56 5.44l.94 2.06.94-2.06 2.06-.94-2.06-.94-.94-2.06-.94 2.06-2.06.94zm-11 1L8.5 8.5l.94-2.06 2.06-.94-2.06-.94L8.5 2.5l-.94 2.06-2.06.94zm10 10l.94 2.06.94-2.06 2.06-.94-2.06-.94-.94-2.06-.94 2.06-2.06.94z\"/><path d=\"M17.41 7.96l-1.37-1.37c-.4-.4-.92-.59-1.43-.59-.52 0-1.04.2-1.43.59L10.3 9.45l-7.72 7.72c-.78.78-.78 2.05 0 2.83L4 21.41c.39.39.9.59 1.41.59.51 0 1.02-.2 1.41-.59l7.78-7.78 2.81-2.81c.8-.78.8-2.07 0-2.86zM5.41 20L4 18.59l7.72-7.72 1.47 1.35L5.41 20z\"/>\n",
       "  </svg>\n",
       "      </button>\n",
       "      \n",
       "  <style>\n",
       "    .colab-df-container {\n",
       "      display:flex;\n",
       "      flex-wrap:wrap;\n",
       "      gap: 12px;\n",
       "    }\n",
       "\n",
       "    .colab-df-convert {\n",
       "      background-color: #E8F0FE;\n",
       "      border: none;\n",
       "      border-radius: 50%;\n",
       "      cursor: pointer;\n",
       "      display: none;\n",
       "      fill: #1967D2;\n",
       "      height: 32px;\n",
       "      padding: 0 0 0 0;\n",
       "      width: 32px;\n",
       "    }\n",
       "\n",
       "    .colab-df-convert:hover {\n",
       "      background-color: #E2EBFA;\n",
       "      box-shadow: 0px 1px 2px rgba(60, 64, 67, 0.3), 0px 1px 3px 1px rgba(60, 64, 67, 0.15);\n",
       "      fill: #174EA6;\n",
       "    }\n",
       "\n",
       "    [theme=dark] .colab-df-convert {\n",
       "      background-color: #3B4455;\n",
       "      fill: #D2E3FC;\n",
       "    }\n",
       "\n",
       "    [theme=dark] .colab-df-convert:hover {\n",
       "      background-color: #434B5C;\n",
       "      box-shadow: 0px 1px 3px 1px rgba(0, 0, 0, 0.15);\n",
       "      filter: drop-shadow(0px 1px 2px rgba(0, 0, 0, 0.3));\n",
       "      fill: #FFFFFF;\n",
       "    }\n",
       "  </style>\n",
       "\n",
       "      <script>\n",
       "        const buttonEl =\n",
       "          document.querySelector('#df-45349d81-ee85-438e-87dd-ac0e44bfa34e button.colab-df-convert');\n",
       "        buttonEl.style.display =\n",
       "          google.colab.kernel.accessAllowed ? 'block' : 'none';\n",
       "\n",
       "        async function convertToInteractive(key) {\n",
       "          const element = document.querySelector('#df-45349d81-ee85-438e-87dd-ac0e44bfa34e');\n",
       "          const dataTable =\n",
       "            await google.colab.kernel.invokeFunction('convertToInteractive',\n",
       "                                                     [key], {});\n",
       "          if (!dataTable) return;\n",
       "\n",
       "          const docLinkHtml = 'Like what you see? Visit the ' +\n",
       "            '<a target=\"_blank\" href=https://colab.research.google.com/notebooks/data_table.ipynb>data table notebook</a>'\n",
       "            + ' to learn more about interactive tables.';\n",
       "          element.innerHTML = '';\n",
       "          dataTable['output_type'] = 'display_data';\n",
       "          await google.colab.output.renderOutput(dataTable, element);\n",
       "          const docLink = document.createElement('div');\n",
       "          docLink.innerHTML = docLinkHtml;\n",
       "          element.appendChild(docLink);\n",
       "        }\n",
       "      </script>\n",
       "    </div>\n",
       "  </div>\n",
       "  "
      ],
      "text/plain": [
       "     target         ids                          date      flag  \\\n",
       "0  Negative  1467810672  Mon Apr 06 22:19:49 PDT 2009  NO_QUERY   \n",
       "1  Negative  1467810917  Mon Apr 06 22:19:53 PDT 2009  NO_QUERY   \n",
       "2  Negative  1467811184  Mon Apr 06 22:19:57 PDT 2009  NO_QUERY   \n",
       "3  Negative  1467811193  Mon Apr 06 22:19:57 PDT 2009  NO_QUERY   \n",
       "4  Negative  1467811372  Mon Apr 06 22:20:00 PDT 2009  NO_QUERY   \n",
       "\n",
       "            user                                               text  tweet_len  \n",
       "0  scotthamilton  is upset that he can't update his Facebook by ...        111  \n",
       "1       mattycus  @Kenichan I dived many times for the ball. Man...         89  \n",
       "2        ElleCTF    my whole body feels itchy and like its on fire          47  \n",
       "3         Karoli  @nationwideclass no, it's not behaving at all....        111  \n",
       "4       joy_wolf                      @Kwesidei not the whole crew          29  "
      ]
     },
     "execution_count": 9,
     "metadata": {},
     "output_type": "execute_result"
    }
   ],
   "source": [
    "text_data['tweet_len'] = text_data['text'].apply(len)\n",
    "text_data.head()"
   ]
  },
  {
   "cell_type": "code",
   "execution_count": 10,
   "metadata": {
    "colab": {
     "base_uri": "https://localhost:8080/",
     "height": 514
    },
    "id": "BXtP5Gd2e1WB",
    "outputId": "01acc0af-a01b-49a9-9cef-e86afb2e5797"
   },
   "outputs": [
    {
     "data": {
      "text/plain": [
       "Text(0.5, 0, 'Tweet Length')"
      ]
     },
     "execution_count": 10,
     "metadata": {},
     "output_type": "execute_result"
    },
    {
     "data": {
      "image/png": "[encoded data removed]",
      "text/plain": [
       "<Figure size 576x576 with 1 Axes>"
      ]
     },
     "metadata": {
      "needs_background": "light"
     },
     "output_type": "display_data"
    }
   ],
   "source": [
    "# plotting the relation between the `tweet_length` and `sentiment`\n",
    "plt.figure(figsize=(8, 8))\n",
    "text_data[text_data.target=='Positive'].tweet_len.plot(bins=30, kind='hist', color='blue', \n",
    "                                       label='Positive messages', alpha=0.6)\n",
    "text_data[text_data.target=='Negative'].tweet_len.plot(kind='hist', color='red', \n",
    "                                       label='Negative messages', alpha=0.6)\n",
    "plt.legend()\n",
    "plt.xlabel(\"Tweet Length\")"
   ]
  },
  {
   "cell_type": "code",
   "execution_count": 11,
   "metadata": {
    "colab": {
     "base_uri": "https://localhost:8080/",
     "height": 206
    },
    "id": "0-e2DjqQg8-r",
    "outputId": "317b703c-155a-41af-85d3-409ad8a7aeec"
   },
   "outputs": [
    {
     "data": {
      "text/html": [
       "\n",
       "  <div id=\"df-265bdbac-144f-46c7-b62d-c9878e0061bb\">\n",
       "    <div class=\"colab-df-container\">\n",
       "      <div>\n",
       "<style scoped>\n",
       "    .dataframe tbody tr th:only-of-type {\n",
       "        vertical-align: middle;\n",
       "    }\n",
       "\n",
       "    .dataframe tbody tr th {\n",
       "        vertical-align: top;\n",
       "    }\n",
       "\n",
       "    .dataframe thead th {\n",
       "        text-align: right;\n",
       "    }\n",
       "</style>\n",
       "<table border=\"1\" class=\"dataframe\">\n",
       "  <thead>\n",
       "    <tr style=\"text-align: right;\">\n",
       "      <th></th>\n",
       "      <th>target</th>\n",
       "      <th>text</th>\n",
       "    </tr>\n",
       "  </thead>\n",
       "  <tbody>\n",
       "    <tr>\n",
       "      <th>0</th>\n",
       "      <td>Negative</td>\n",
       "      <td>is upset that he can't update his Facebook by ...</td>\n",
       "    </tr>\n",
       "    <tr>\n",
       "      <th>1</th>\n",
       "      <td>Negative</td>\n",
       "      <td>@Kenichan I dived many times for the ball. Man...</td>\n",
       "    </tr>\n",
       "    <tr>\n",
       "      <th>2</th>\n",
       "      <td>Negative</td>\n",
       "      <td>my whole body feels itchy and like its on fire</td>\n",
       "    </tr>\n",
       "    <tr>\n",
       "      <th>3</th>\n",
       "      <td>Negative</td>\n",
       "      <td>@nationwideclass no, it's not behaving at all....</td>\n",
       "    </tr>\n",
       "    <tr>\n",
       "      <th>4</th>\n",
       "      <td>Negative</td>\n",
       "      <td>@Kwesidei not the whole crew</td>\n",
       "    </tr>\n",
       "  </tbody>\n",
       "</table>\n",
       "</div>\n",
       "      <button class=\"colab-df-convert\" onclick=\"convertToInteractive('df-265bdbac-144f-46c7-b62d-c9878e0061bb')\"\n",
       "              title=\"Convert this dataframe to an interactive table.\"\n",
       "              style=\"display:none;\">\n",
       "        \n",
       "  <svg xmlns=\"http://www.w3.org/2000/svg\" height=\"24px\"viewBox=\"0 0 24 24\"\n",
       "       width=\"24px\">\n",
       "    <path d=\"M0 0h24v24H0V0z\" fill=\"none\"/>\n",
       "    <path d=\"M18.56 5.44l.94 2.06.94-2.06 2.06-.94-2.06-.94-.94-2.06-.94 2.06-2.06.94zm-11 1L8.5 8.5l.94-2.06 2.06-.94-2.06-.94L8.5 2.5l-.94 2.06-2.06.94zm10 10l.94 2.06.94-2.06 2.06-.94-2.06-.94-.94-2.06-.94 2.06-2.06.94z\"/><path d=\"M17.41 7.96l-1.37-1.37c-.4-.4-.92-.59-1.43-.59-.52 0-1.04.2-1.43.59L10.3 9.45l-7.72 7.72c-.78.78-.78 2.05 0 2.83L4 21.41c.39.39.9.59 1.41.59.51 0 1.02-.2 1.41-.59l7.78-7.78 2.81-2.81c.8-.78.8-2.07 0-2.86zM5.41 20L4 18.59l7.72-7.72 1.47 1.35L5.41 20z\"/>\n",
       "  </svg>\n",
       "      </button>\n",
       "      \n",
       "  <style>\n",
       "    .colab-df-container {\n",
       "      display:flex;\n",
       "      flex-wrap:wrap;\n",
       "      gap: 12px;\n",
       "    }\n",
       "\n",
       "    .colab-df-convert {\n",
       "      background-color: #E8F0FE;\n",
       "      border: none;\n",
       "      border-radius: 50%;\n",
       "      cursor: pointer;\n",
       "      display: none;\n",
       "      fill: #1967D2;\n",
       "      height: 32px;\n",
       "      padding: 0 0 0 0;\n",
       "      width: 32px;\n",
       "    }\n",
       "\n",
       "    .colab-df-convert:hover {\n",
       "      background-color: #E2EBFA;\n",
       "      box-shadow: 0px 1px 2px rgba(60, 64, 67, 0.3), 0px 1px 3px 1px rgba(60, 64, 67, 0.15);\n",
       "      fill: #174EA6;\n",
       "    }\n",
       "\n",
       "    [theme=dark] .colab-df-convert {\n",
       "      background-color: #3B4455;\n",
       "      fill: #D2E3FC;\n",
       "    }\n",
       "\n",
       "    [theme=dark] .colab-df-convert:hover {\n",
       "      background-color: #434B5C;\n",
       "      box-shadow: 0px 1px 3px 1px rgba(0, 0, 0, 0.15);\n",
       "      filter: drop-shadow(0px 1px 2px rgba(0, 0, 0, 0.3));\n",
       "      fill: #FFFFFF;\n",
       "    }\n",
       "  </style>\n",
       "\n",
       "      <script>\n",
       "        const buttonEl =\n",
       "          document.querySelector('#df-265bdbac-144f-46c7-b62d-c9878e0061bb button.colab-df-convert');\n",
       "        buttonEl.style.display =\n",
       "          google.colab.kernel.accessAllowed ? 'block' : 'none';\n",
       "\n",
       "        async function convertToInteractive(key) {\n",
       "          const element = document.querySelector('#df-265bdbac-144f-46c7-b62d-c9878e0061bb');\n",
       "          const dataTable =\n",
       "            await google.colab.kernel.invokeFunction('convertToInteractive',\n",
       "                                                     [key], {});\n",
       "          if (!dataTable) return;\n",
       "\n",
       "          const docLinkHtml = 'Like what you see? Visit the ' +\n",
       "            '<a target=\"_blank\" href=https://colab.research.google.com/notebooks/data_table.ipynb>data table notebook</a>'\n",
       "            + ' to learn more about interactive tables.';\n",
       "          element.innerHTML = '';\n",
       "          dataTable['output_type'] = 'display_data';\n",
       "          await google.colab.output.renderOutput(dataTable, element);\n",
       "          const docLink = document.createElement('div');\n",
       "          docLink.innerHTML = docLinkHtml;\n",
       "          element.appendChild(docLink);\n",
       "        }\n",
       "      </script>\n",
       "    </div>\n",
       "  </div>\n",
       "  "
      ],
      "text/plain": [
       "     target                                               text\n",
       "0  Negative  is upset that he can't update his Facebook by ...\n",
       "1  Negative  @Kenichan I dived many times for the ball. Man...\n",
       "2  Negative    my whole body feels itchy and like its on fire \n",
       "3  Negative  @nationwideclass no, it's not behaving at all....\n",
       "4  Negative                      @Kwesidei not the whole crew "
      ]
     },
     "execution_count": 11,
     "metadata": {},
     "output_type": "execute_result"
    }
   ],
   "source": [
    "# Dropping columns which are not required\n",
    "text_data = text_data.drop(['ids', 'date', 'flag', 'user', 'tweet_len'], axis=1)\n",
    "text_data.head()"
   ]
  },
  {
   "cell_type": "markdown",
   "metadata": {
    "id": "-SGg-jbPtefT"
   },
   "source": [
    "2. Remove punctuations and stopwords from the text in “text” column (2Marks)"
   ]
  },
  {
   "cell_type": "code",
   "execution_count": 12,
   "metadata": {
    "id": "m9fhqtc3tyc_"
   },
   "outputs": [],
   "source": [
    "stop_words = stopwords.words('english')\n",
    "stemmer = SnowballStemmer('english')\n",
    "\n",
    "text_cleaning_re = \"@\\S+|https?:\\S+|http?:\\S|[^A-Za-z0-9]+\""
   ]
  },
  {
   "cell_type": "code",
   "execution_count": 13,
   "metadata": {
    "id": "pJ_57gM_zSpj"
   },
   "outputs": [],
   "source": [
    "def preprocess(text, stem=False):\n",
    "  text = re.sub(text_cleaning_re, ' ', str(text).lower()).strip()\n",
    "  tokens = []\n",
    "  for token in text.split():\n",
    "    if token not in stop_words:\n",
    "      if stem:\n",
    "        tokens.append(stemmer.stem(token))\n",
    "      else:\n",
    "        tokens.append(token)\n",
    "  return \" \".join(tokens)"
   ]
  },
  {
   "cell_type": "code",
   "execution_count": 14,
   "metadata": {
    "colab": {
     "base_uri": "https://localhost:8080/"
    },
    "id": "uNesA1HEzWb5",
    "outputId": "d833e249-8c6f-4031-b25a-f394cb327f68"
   },
   "outputs": [
    {
     "name": "stdout",
     "output_type": "stream",
     "text": [
      "1min 2s ± 1.58 s per loop (mean ± std. dev. of 7 runs, 1 loop each)\n"
     ]
    }
   ],
   "source": [
    "%%timeit\n",
    "# takes around 6 min to run\n",
    "text_data['proc_text'] = text_data['text'].apply(lambda x: preprocess(x))\n",
    "text_data.head()"
   ]
  },
  {
   "cell_type": "code",
   "execution_count": 15,
   "metadata": {
    "colab": {
     "base_uri": "https://localhost:8080/"
    },
    "id": "Ax16_W4-jqZh",
    "outputId": "89fca835-fae2-40b9-f601-96fab2b60751"
   },
   "outputs": [
    {
     "name": "stdout",
     "output_type": "stream",
     "text": [
      "Most common 50 positive words...\n",
      "[('good', 62119), ('love', 47713), ('day', 47211), ('quot', 45910), ('like', 37519), ('get', 36506), ('lol', 36127), ('thanks', 34515), ('u', 31937), ('going', 30933), ('time', 30430), ('today', 30101), ('go', 28339), ('got', 28003), ('new', 26943), ('one', 26703), ('amp', 26235), ('see', 25807), ('know', 25735), ('great', 25310), ('back', 23859), ('night', 23572), ('well', 23297), ('haha', 21669), ('morning', 20834), ('happy', 20531), ('im', 19970), ('twitter', 19543), ('work', 19533), ('think', 19527), ('hope', 19212), ('really', 18531), ('fun', 18520), ('2', 18223), ('oh', 17310), ('much', 17025), ('nice', 16972), ('3', 16433), ('home', 15929), ('thank', 15822), ('tomorrow', 14876), ('awesome', 14471), ('watching', 14378), ('still', 14300), ('wait', 14055), ('hey', 14047), ('need', 13667), ('would', 13325), ('last', 13281), ('right', 12812)]\n"
     ]
    }
   ],
   "source": [
    "from collections import Counter\n",
    "\n",
    "words = text_data[text_data.target=='Positive'].proc_text.apply(lambda x: [word.lower() for word in x.split()])\n",
    "pos_words = Counter()\n",
    "\n",
    "for tweet in words:\n",
    "    pos_words.update(tweet)\n",
    "\n",
    "print(\"Most common 50 positive words...\")    \n",
    "print(pos_words.most_common(50))\n"
   ]
  },
  {
   "cell_type": "code",
   "execution_count": 16,
   "metadata": {
    "colab": {
     "base_uri": "https://localhost:8080/"
    },
    "id": "1OP-gMPakAis",
    "outputId": "303c668a-4b36-49fc-eb33-a93944eae674"
   },
   "outputs": [
    {
     "name": "stdout",
     "output_type": "stream",
     "text": [
      "Most common 50 negative words...\n",
      "[('go', 45580), ('get', 45542), ('work', 45427), ('like', 41048), ('day', 39864), ('today', 38118), ('going', 33685), ('got', 33289), ('back', 33078), ('really', 31500), ('miss', 30731), ('im', 30662), ('want', 29865), ('still', 29264), ('good', 29206), ('sad', 27918), ('time', 27521), ('one', 27265), ('know', 26314), ('quot', 26162), ('2', 24669), ('home', 24530), ('u', 23997), ('lol', 23137), ('wish', 22461), ('oh', 22456), ('last', 22454), ('amp', 22434), ('need', 22301), ('feel', 21956), ('think', 21880), ('bad', 21725), ('sorry', 20986), ('see', 20557), ('night', 20031), ('much', 20010), ('well', 19484), ('tomorrow', 19245), ('sleep', 18450), ('hate', 17208), ('love', 16999), ('3', 16267), ('new', 15506), ('right', 15070), ('though', 14799), ('hope', 14679), ('sick', 14617), ('would', 14006), ('could', 13837), ('morning', 13771)]\n"
     ]
    }
   ],
   "source": [
    "words = text_data[text_data.target=='Negative'].proc_text.apply(lambda x: [word.lower() for word in x.split()])\n",
    "neg_words = Counter()\n",
    "\n",
    "for tweet in words:\n",
    "    neg_words.update(tweet)\n",
    "\n",
    "print(\"Most common 50 negative words...\")    \n",
    "print(neg_words.most_common(50))"
   ]
  },
  {
   "cell_type": "code",
   "execution_count": 17,
   "metadata": {
    "colab": {
     "base_uri": "https://localhost:8080/"
    },
    "id": "SSdSrWHAgXaP",
    "outputId": "4112d3e7-de28-40a0-bb88-d40e5d305710"
   },
   "outputs": [
    {
     "name": "stdout",
     "output_type": "stream",
     "text": [
      "<class 'pandas.core.frame.DataFrame'>\n",
      "RangeIndex: 1599999 entries, 0 to 1599998\n",
      "Data columns (total 3 columns):\n",
      " #   Column     Non-Null Count    Dtype \n",
      "---  ------     --------------    ----- \n",
      " 0   target     1599999 non-null  object\n",
      " 1   text       1599999 non-null  object\n",
      " 2   proc_text  1599999 non-null  object\n",
      "dtypes: object(3)\n",
      "memory usage: 36.6+ MB\n"
     ]
    }
   ],
   "source": [
    "text_data.info()"
   ]
  },
  {
   "cell_type": "markdown",
   "metadata": {
    "id": "qAqmQMxbtkz2"
   },
   "source": [
    "3. Create two objects X and y. X will be the 'text’ column of Dataframe and y will be the 'target' column. Create a CountVectorizer object and split the data into training and testing sets. Train a MultinomialNB model and Display the confusion Matrix (5 Marks)"
   ]
  },
  {
   "cell_type": "code",
   "execution_count": 18,
   "metadata": {
    "id": "-X2R_AxctzJJ"
   },
   "outputs": [],
   "source": [
    "X = text_data['proc_text']\n",
    "y = text_data['target']"
   ]
  },
  {
   "cell_type": "code",
   "execution_count": 19,
   "metadata": {
    "colab": {
     "base_uri": "https://localhost:8080/"
    },
    "id": "FKIp9cP41ksr",
    "outputId": "9784adbd-21a3-4278-fdb7-95cd4157e3d2"
   },
   "outputs": [
    {
     "data": {
      "text/plain": [
       "0          upset update facebook texting might cry result...\n",
       "1          dived many times ball managed save 50 rest go ...\n",
       "2                           whole body feels itchy like fire\n",
       "3                                           behaving mad see\n",
       "4                                                 whole crew\n",
       "                                 ...                        \n",
       "1599994                        woke school best feeling ever\n",
       "1599995             thewdb com cool hear old walt interviews\n",
       "1599996                      ready mojo makeover ask details\n",
       "1599997    happy 38th birthday boo alll time tupac amaru ...\n",
       "1599998    happy charitytuesday thenspcc sparkscharity sp...\n",
       "Name: proc_text, Length: 1599999, dtype: object"
      ]
     },
     "execution_count": 19,
     "metadata": {},
     "output_type": "execute_result"
    }
   ],
   "source": [
    "X"
   ]
  },
  {
   "cell_type": "code",
   "execution_count": 20,
   "metadata": {
    "id": "sk79QG5fA83C"
   },
   "outputs": [],
   "source": [
    "X_train, X_test, y_train, y_test = train_test_split(X, y, test_size=0.33, random_state=42)"
   ]
  },
  {
   "cell_type": "code",
   "execution_count": 21,
   "metadata": {
    "colab": {
     "base_uri": "https://localhost:8080/"
    },
    "id": "6Ytpn8rHCZLL",
    "outputId": "c42de093-6888-483d-bb9e-46c13570ccc0"
   },
   "outputs": [
    {
     "name": "stdout",
     "output_type": "stream",
     "text": [
      "Shape of X_train (1071999,)\n",
      "Shape of y_train (1071999,)\n",
      "Shape of X_test (528000,)\n",
      "Shape of y_test (528000,)\n"
     ]
    }
   ],
   "source": [
    "print(\"Shape of X_train\", X_train.shape)\n",
    "print(\"Shape of y_train\", y_train.shape)\n",
    "\n",
    "print(\"Shape of X_test\", X_test.shape)\n",
    "print(\"Shape of y_test\", y_test.shape)"
   ]
  },
  {
   "cell_type": "code",
   "execution_count": 22,
   "metadata": {
    "colab": {
     "base_uri": "https://localhost:8080/"
    },
    "id": "vBnAfQQz0_F3",
    "outputId": "9fdb818e-58f0-44e6-8078-947cf844308a"
   },
   "outputs": [
    {
     "data": {
      "text/plain": [
       "MultinomialNB()"
      ]
     },
     "execution_count": 22,
     "metadata": {},
     "output_type": "execute_result"
    }
   ],
   "source": [
    "\n",
    "from sklearn.feature_extraction.text import CountVectorizer\n",
    "from sklearn.naive_bayes import MultinomialNB\n",
    "\n",
    "text_clf = MultinomialNB()\n",
    "\n",
    "text_clf"
   ]
  },
  {
   "cell_type": "code",
   "execution_count": 23,
   "metadata": {
    "colab": {
     "base_uri": "https://localhost:8080/"
    },
    "id": "-IYI5LKZFxzQ",
    "outputId": "9ceb3ff4-8127-4a6a-d5fb-fbd9d2737beb"
   },
   "outputs": [
    {
     "name": "stdout",
     "output_type": "stream",
     "text": [
      "Time taken to run: 63.57471013069153 seconds\n"
     ]
    }
   ],
   "source": [
    "import time\n",
    "\n",
    "t1 = time.time()\n",
    "vectorizer = CountVectorizer(ngram_range=(1, 3), \n",
    "                             analyzer = 'word', \n",
    "                             stop_words='english', \n",
    "                             max_df=0.5,\n",
    "                             min_df=2)\n",
    "\n",
    "X_train_vect = vectorizer.fit_transform(X_train)\n",
    "X_test_vect = vectorizer.transform(X_test)\n",
    "\n",
    "text_clf.fit(X_train_vect, y_train)\n",
    "t2 = time.time()\n",
    "print(f\"Time taken to run: {(t2-t1)} seconds\")"
   ]
  },
  {
   "cell_type": "code",
   "execution_count": 24,
   "metadata": {
    "colab": {
     "base_uri": "https://localhost:8080/"
    },
    "id": "Me3u0ueuGD3G",
    "outputId": "582177dd-3201-4060-ea5f-88d409cb11cb"
   },
   "outputs": [
    {
     "name": "stdout",
     "output_type": "stream",
     "text": [
      "              precision    recall  f1-score   support\n",
      "\n",
      "    Negative       0.76      0.77      0.77    263320\n",
      "    Positive       0.77      0.76      0.77    264680\n",
      "\n",
      "    accuracy                           0.77    528000\n",
      "   macro avg       0.77      0.77      0.77    528000\n",
      "weighted avg       0.77      0.77      0.77    528000\n",
      "\n"
     ]
    }
   ],
   "source": [
    "from sklearn.metrics import classification_report\n",
    "\n",
    "preds = text_clf.predict(X_test_vect)\n",
    "print(classification_report(y_test, preds, digits=2))"
   ]
  },
  {
   "cell_type": "code",
   "execution_count": 25,
   "metadata": {
    "colab": {
     "base_uri": "https://localhost:8080/",
     "height": 295
    },
    "id": "ZUa_Vs3fh3ez",
    "outputId": "681fe393-6f8d-4784-ec58-d173e9662eee"
   },
   "outputs": [
    {
     "data": {
      "image/png": "[encoded data removed]",
      "text/plain": [
       "<Figure size 432x288 with 2 Axes>"
      ]
     },
     "metadata": {
      "needs_background": "light"
     },
     "output_type": "display_data"
    }
   ],
   "source": [
    "import matplotlib.pyplot as plt\n",
    "from sklearn.metrics import confusion_matrix, ConfusionMatrixDisplay\n",
    "\n",
    "cm = confusion_matrix(y_test, \n",
    "                      preds, \n",
    "                      labels=text_clf.classes_)\n",
    "\n",
    "cm_norm= np.around(cm.astype('float') / cm.sum(axis=1)[:, np.newaxis], \n",
    "                   decimals=2)\n",
    "\n",
    "\n",
    "disp = ConfusionMatrixDisplay(confusion_matrix=cm_norm,\n",
    "                               display_labels=text_clf.classes_)\n",
    "\n",
    "disp.plot(cmap=plt.cm.Blues, values_format='2g')\n",
    "plt.title(\"Normalised Confusion Matrix - Sentiment Classes\")\n",
    "plt.show()"
   ]
  },
  {
   "cell_type": "code",
   "execution_count": 26,
   "metadata": {
    "colab": {
     "base_uri": "https://localhost:8080/",
     "height": 295
    },
    "id": "k7GqBcKImlLz",
    "outputId": "9f66d721-b3a8-4f8f-f8dd-cc92872ba00b"
   },
   "outputs": [
    {
     "data": {
      "image/png": "[encoded data removed]",
      "text/plain": [
       "<Figure size 432x288 with 2 Axes>"
      ]
     },
     "metadata": {
      "needs_background": "light"
     },
     "output_type": "display_data"
    }
   ],
   "source": [
    "import matplotlib.pyplot as plt\n",
    "from sklearn.metrics import confusion_matrix, ConfusionMatrixDisplay\n",
    "\n",
    "cm = confusion_matrix(y_test, \n",
    "                      preds, \n",
    "                      labels=text_clf.classes_)\n",
    "\n",
    "disp = ConfusionMatrixDisplay(confusion_matrix=cm,\n",
    "                               display_labels=text_clf.classes_)\n",
    "\n",
    "disp.plot(cmap=plt.cm.Blues, values_format='2g')\n",
    "plt.title(\"Actual Confusion Matrix - Sentiment Classes\")\n",
    "plt.show()"
   ]
  },
  {
   "cell_type": "markdown",
   "metadata": {
    "id": "cG8izdkntn5j"
   },
   "source": [
    "4. Display the HMM POS tagging on the first 4 rows of ‘text’ (2 Marks)\n",
    "\n"
   ]
  },
  {
   "cell_type": "code",
   "execution_count": 27,
   "metadata": {
    "colab": {
     "base_uri": "https://localhost:8080/"
    },
    "id": "VbdFBf9gHHxF",
    "outputId": "a9fa52f9-7b64-4941-bfdc-9da2bb5be270"
   },
   "outputs": [
    {
     "name": "stderr",
     "output_type": "stream",
     "text": [
      "[nltk_data] Downloading package treebank to /root/nltk_data...\n",
      "[nltk_data]   Package treebank is already up-to-date!\n",
      "[nltk_data] Downloading package universal_tagset to /root/nltk_data...\n",
      "[nltk_data]   Package universal_tagset is already up-to-date!\n"
     ]
    },
    {
     "name": "stdout",
     "output_type": "stream",
     "text": [
      "\n",
      "[('Sen.', 'NOUN'), ('Kennedy', 'NOUN'), ('said', 'VERB'), ('in', 'ADP'), ('a', 'DET'), ('separate', 'ADJ'), ('statement', 'NOUN'), ('that', 'ADP'), ('he', 'PRON'), ('supports', 'VERB'), ('legislation', 'NOUN'), ('0', 'X'), ('*', 'X'), ('to', 'PRT'), ('give', 'VERB'), ('the', 'DET'), ('president', 'NOUN'), ('line-item', 'ADJ'), ('veto', 'NOUN'), ('power', 'NOUN'), ('*T*-2', 'X'), (',', '.'), ('but', 'CONJ'), ('that', 'ADP'), ('it', 'PRON'), ('*EXP*-1', 'X'), ('would', 'VERB'), ('be', 'VERB'), ('a', 'DET'), ('``', '.'), ('reckless', 'ADJ'), ('course', 'NOUN'), ('of', 'ADP'), ('action', 'NOUN'), (\"''\", '.'), ('for', 'ADP'), ('President', 'NOUN'), ('Bush', 'NOUN'), ('to', 'PRT'), ('claim', 'VERB'), ('the', 'DET'), ('authority', 'NOUN'), ('without', 'ADP'), ('congressional', 'ADJ'), ('approval', 'NOUN'), ('.', '.')]\n",
      "\n",
      "[('Trinity', 'NOUN'), ('Industries', 'NOUN'), ('Inc.', 'NOUN'), ('said', 'VERB'), ('0', 'X'), ('it', 'PRON'), ('reached', 'VERB'), ('a', 'DET'), ('preliminary', 'ADJ'), ('agreement', 'NOUN'), ('*', 'X'), ('to', 'PRT'), ('sell', 'VERB'), ('500', 'NUM'), ('railcar', 'NOUN'), ('platforms', 'NOUN'), ('to', 'PRT'), ('Trailer', 'NOUN'), ('Train', 'NOUN'), ('Co.', 'NOUN'), ('of', 'ADP'), ('Chicago', 'NOUN'), ('.', '.')]\n",
      "\n",
      "[('Terms', 'NOUN'), ('were', 'VERB'), (\"n't\", 'ADV'), ('disclosed', 'VERB'), ('*-1', 'X'), ('.', '.')]\n",
      "\n",
      "[('Trinity', 'NOUN'), ('said', 'VERB'), ('0', 'X'), ('it', 'PRON'), ('plans', 'VERB'), ('*-1', 'X'), ('to', 'PRT'), ('begin', 'VERB'), ('delivery', 'NOUN'), ('in', 'ADP'), ('the', 'DET'), ('first', 'ADJ'), ('quarter', 'NOUN'), ('of', 'ADP'), ('next', 'ADJ'), ('year', 'NOUN'), ('.', '.')]\n"
     ]
    }
   ],
   "source": [
    "#download the treebank corpus from nltk\n",
    "nltk.download('treebank')\n",
    " \n",
    "#download the universal tagset from nltk\n",
    "nltk.download('universal_tagset')\n",
    " \n",
    "# reading the Treebank tagged sentences\n",
    "nltk_data = list(nltk.corpus.treebank.tagged_sents(tagset='universal'))\n",
    " \n",
    "#print the first two sentences along with tags\n",
    "for d in nltk_data[-4:]:\n",
    "  print()\n",
    "  print(d)\n"
   ]
  },
  {
   "cell_type": "code",
   "execution_count": 28,
   "metadata": {
    "colab": {
     "base_uri": "https://localhost:8080/"
    },
    "id": "zf4rm5hvxX31",
    "outputId": "f5d4e297-f701-4b3d-ff94-7265cd3ceed7"
   },
   "outputs": [
    {
     "name": "stdout",
     "output_type": "stream",
     "text": [
      "\n",
      " *************** \n",
      "\n",
      "('Sen.', 'NOUN')\n",
      "('Kennedy', 'NOUN')\n",
      "('said', 'VERB')\n",
      "('in', 'ADP')\n",
      "('a', 'DET')\n",
      "('separate', 'ADJ')\n",
      "('statement', 'NOUN')\n",
      "('that', 'ADP')\n",
      "('he', 'PRON')\n",
      "('supports', 'VERB')\n",
      "('legislation', 'NOUN')\n",
      "('0', 'X')\n",
      "('*', 'X')\n",
      "('to', 'PRT')\n",
      "('give', 'VERB')\n",
      "('the', 'DET')\n",
      "('president', 'NOUN')\n",
      "('line-item', 'ADJ')\n",
      "('veto', 'NOUN')\n",
      "('power', 'NOUN')\n",
      "('*T*-2', 'X')\n",
      "(',', '.')\n",
      "('but', 'CONJ')\n",
      "('that', 'ADP')\n",
      "('it', 'PRON')\n",
      "('*EXP*-1', 'X')\n",
      "('would', 'VERB')\n",
      "('be', 'VERB')\n",
      "('a', 'DET')\n",
      "('``', '.')\n",
      "('reckless', 'ADJ')\n",
      "('course', 'NOUN')\n",
      "('of', 'ADP')\n",
      "('action', 'NOUN')\n",
      "(\"''\", '.')\n",
      "('for', 'ADP')\n",
      "('President', 'NOUN')\n",
      "('Bush', 'NOUN')\n",
      "('to', 'PRT')\n",
      "('claim', 'VERB')\n",
      "('the', 'DET')\n",
      "('authority', 'NOUN')\n",
      "('without', 'ADP')\n",
      "('congressional', 'ADJ')\n",
      "('approval', 'NOUN')\n",
      "('.', '.')\n",
      "\n",
      " *************** \n",
      "\n",
      "('Trinity', 'NOUN')\n",
      "('Industries', 'NOUN')\n",
      "('Inc.', 'NOUN')\n",
      "('said', 'VERB')\n",
      "('0', 'X')\n",
      "('it', 'PRON')\n",
      "('reached', 'VERB')\n",
      "('a', 'DET')\n",
      "('preliminary', 'ADJ')\n",
      "('agreement', 'NOUN')\n",
      "('*', 'X')\n",
      "('to', 'PRT')\n",
      "('sell', 'VERB')\n",
      "('500', 'NUM')\n",
      "('railcar', 'NOUN')\n",
      "('platforms', 'NOUN')\n",
      "('to', 'PRT')\n",
      "('Trailer', 'NOUN')\n",
      "('Train', 'NOUN')\n",
      "('Co.', 'NOUN')\n",
      "('of', 'ADP')\n",
      "('Chicago', 'NOUN')\n",
      "('.', '.')\n",
      "\n",
      " *************** \n",
      "\n",
      "('Terms', 'NOUN')\n",
      "('were', 'VERB')\n",
      "(\"n't\", 'ADV')\n",
      "('disclosed', 'VERB')\n",
      "('*-1', 'X')\n",
      "('.', '.')\n",
      "\n",
      " *************** \n",
      "\n",
      "('Trinity', 'NOUN')\n",
      "('said', 'VERB')\n",
      "('0', 'X')\n",
      "('it', 'PRON')\n",
      "('plans', 'VERB')\n",
      "('*-1', 'X')\n",
      "('to', 'PRT')\n",
      "('begin', 'VERB')\n",
      "('delivery', 'NOUN')\n",
      "('in', 'ADP')\n",
      "('the', 'DET')\n",
      "('first', 'ADJ')\n",
      "('quarter', 'NOUN')\n",
      "('of', 'ADP')\n",
      "('next', 'ADJ')\n",
      "('year', 'NOUN')\n",
      "('.', '.')\n"
     ]
    }
   ],
   "source": [
    "# print each word with its respective tag for few sentences\n",
    "for sent in nltk_data[-4:]:\n",
    "  print(\"\\n *************** \\n\")\n",
    "  for word_tup in sent:\n",
    "    print(word_tup)"
   ]
  },
  {
   "cell_type": "code",
   "execution_count": 29,
   "metadata": {
    "colab": {
     "base_uri": "https://localhost:8080/"
    },
    "id": "yUPNXYaox4bK",
    "outputId": "dc094058-50ba-40be-bd43-a9b5132dffa4"
   },
   "outputs": [
    {
     "name": "stdout",
     "output_type": "stream",
     "text": [
      "Number of records in NLTK data:  3914\n",
      "Number of records in train_set:  3131\n",
      "Number of records in test_set:  783\n"
     ]
    }
   ],
   "source": [
    "# split data into training and validation set in the ratio 80:20\n",
    "train_set, test_set = train_test_split(nltk_data,\n",
    "                                       train_size=0.80,\n",
    "                                       test_size=0.20,\n",
    "                                       random_state=2022)\n",
    "\n",
    "print(\"Number of records in NLTK data: \", len(nltk_data))\n",
    "print(\"Number of records in train_set: \", len(train_set))\n",
    "print(\"Number of records in test_set: \", len(test_set))"
   ]
  },
  {
   "cell_type": "code",
   "execution_count": 30,
   "metadata": {
    "colab": {
     "base_uri": "https://localhost:8080/"
    },
    "id": "sZ-x_eA5ykhv",
    "outputId": "a930c037-6368-42f8-c13a-9f27f13100a7"
   },
   "outputs": [
    {
     "name": "stdout",
     "output_type": "stream",
     "text": [
      "Number of records in train tagged words:  80446\n",
      "Number of records in test tagged words:  20230\n"
     ]
    }
   ],
   "source": [
    "# create list of train and test tagged words\n",
    "train_tagged_words = [ tup for sent in train_set for tup in sent ]\n",
    "\n",
    "test_tagged_words = [ tup for sent in test_set for tup in sent ]\n",
    "\n",
    "print(\"Number of records in train tagged words: \", len(train_tagged_words))\n",
    "print(\"Number of records in test tagged words: \", len(test_tagged_words))"
   ]
  },
  {
   "cell_type": "code",
   "execution_count": 31,
   "metadata": {
    "colab": {
     "base_uri": "https://localhost:8080/"
    },
    "id": "HcHSYTc3y-xg",
    "outputId": "8d4b01ff-5fd7-48ef-ea83-29dd9ab6c22c"
   },
   "outputs": [
    {
     "data": {
      "text/plain": [
       "[('Cruise', 'NOUN'),\n",
       " ('Lines', 'NOUN'),\n",
       " ('Inc.', 'NOUN'),\n",
       " ('said', 'VERB'),\n",
       " ('0', 'X'),\n",
       " ('potential', 'ADJ'),\n",
       " ('problems', 'NOUN'),\n",
       " ('with', 'ADP'),\n",
       " ('the', 'DET'),\n",
       " ('construction', 'NOUN')]"
      ]
     },
     "execution_count": 31,
     "metadata": {},
     "output_type": "execute_result"
    }
   ],
   "source": [
    "# check some of the tagged words.\n",
    "train_tagged_words[20:30]"
   ]
  },
  {
   "cell_type": "code",
   "execution_count": 32,
   "metadata": {
    "colab": {
     "base_uri": "https://localhost:8080/"
    },
    "id": "yDGvCMPOzJ3P",
    "outputId": "0588aeff-1a16-4f5e-d0ec-9a1bbd8bd461"
   },
   "outputs": [
    {
     "name": "stdout",
     "output_type": "stream",
     "text": [
      "Number of unique tags found in training:  12\n",
      "Unique training tags are:  {'CONJ', 'NUM', 'ADV', 'PRON', 'DET', 'ADJ', '.', 'X', 'PRT', 'NOUN', 'ADP', 'VERB'}\n"
     ]
    }
   ],
   "source": [
    "# use set datatype to check how many unique tags are present in training data\n",
    "tags = {tag for word,tag in train_tagged_words}\n",
    "print(\"Number of unique tags found in training: \", len(tags))\n",
    "print(\"Unique training tags are: \", tags)\n",
    " \n",
    "# check total words in vocabulary\n",
    "vocab = {word for word,tag in train_tagged_words}"
   ]
  },
  {
   "cell_type": "code",
   "execution_count": 33,
   "metadata": {
    "id": "6RN4r6SezZmZ"
   },
   "outputs": [],
   "source": [
    "# compute emission Probability\n",
    "def word_given_tag(word, tag, train_bag = train_tagged_words):\n",
    "    tag_list = [pair for pair in train_bag if pair[1]==tag]\n",
    "    count_tag = len(tag_list) \n",
    "    # total number of times the passed tag occurred in train_bag\n",
    "    w_given_tag_list = [pair[0] for pair in tag_list if pair[0]==word]\n",
    "    # now calculate the total number of times the passed word occurred as the passed tag.\n",
    "    count_w_given_tag = len(w_given_tag_list)\n",
    " \n",
    "    return (count_w_given_tag, count_tag)"
   ]
  },
  {
   "cell_type": "code",
   "execution_count": 34,
   "metadata": {
    "id": "Kb9PvT3xzkgk"
   },
   "outputs": [],
   "source": [
    "# compute transition probability\n",
    "def t2_given_t1(t2, t1, train_bag = train_tagged_words):\n",
    "    tags = [pair[1] for pair in train_bag]\n",
    "    count_t1 = len([t for t in tags if t==t1])\n",
    "    count_t2_t1 = 0\n",
    "    for index in range(len(tags)-1):\n",
    "        if tags[index]==t1 and tags[index+1] == t2:\n",
    "            count_t2_t1 += 1\n",
    "    return (count_t2_t1, count_t1)"
   ]
  },
  {
   "cell_type": "code",
   "execution_count": 35,
   "metadata": {
    "colab": {
     "base_uri": "https://localhost:8080/"
    },
    "id": "K5BClkjizqs6",
    "outputId": "f7384253-d829-4cfd-f2e4-c4e5b55d73a1"
   },
   "outputs": [
    {
     "name": "stdout",
     "output_type": "stream",
     "text": [
      "[[5.56173502e-04 4.28253599e-02 5.45050055e-02 5.56173511e-02\n",
      "  1.17352612e-01 1.14015572e-01 3.44827585e-02 1.00111235e-02\n",
      "  5.56173548e-03 3.53726357e-01 5.33926599e-02 1.57953277e-01]\n",
      " [1.32820690e-02 1.85249910e-01 2.79622502e-03 1.04858447e-03\n",
      "  3.49528133e-03 3.42537574e-02 1.17790982e-01 1.99580565e-01\n",
      "  3.04089487e-02 3.57217759e-01 3.53023410e-02 1.95735749e-02]\n",
      " [7.15990458e-03 3.54017504e-02 7.55767673e-02 1.55131267e-02\n",
      "  6.92124069e-02 1.25696108e-01 1.40015915e-01 2.38663480e-02\n",
      "  1.27287190e-02 3.30151170e-02 1.20525062e-01 3.41288775e-01]\n",
      " [6.00739382e-03 7.39371544e-03 3.14232893e-02 6.00739382e-03\n",
      "  1.06284656e-02 7.53234774e-02 4.20517549e-02 9.28835496e-02\n",
      "  1.06284656e-02 2.17190385e-01 2.35674679e-02 4.76894647e-01]\n",
      " [2.85632676e-04 2.24221647e-02 1.25678377e-02 3.57040856e-03\n",
      "  5.28420461e-03 2.07226500e-01 1.78520419e-02 4.59868610e-02\n",
      "  1.42816338e-04 6.35675550e-01 9.56869498e-03 3.94173078e-02]\n",
      " [1.66666675e-02 2.13178303e-02 3.68217053e-03 5.81395347e-04\n",
      "  3.48837208e-03 6.62790686e-02 6.68604672e-02 1.91860460e-02\n",
      "  1.18217058e-02 6.99030995e-01 7.88759664e-02 1.22093027e-02]\n",
      " [5.76654114e-02 7.90747702e-02 5.50833791e-02 6.53039292e-02\n",
      "  1.73964500e-01 4.67993543e-02 8.99408311e-02 2.72189341e-02\n",
      "  2.15169438e-03 2.22377628e-01 9.04787555e-02 8.98332447e-02]\n",
      " [9.01073590e-03 3.25920247e-03 2.66487729e-02 5.46395704e-02\n",
      "  5.54064400e-02 1.72546003e-02 1.60659507e-01 7.59202465e-02\n",
      "  1.83090493e-01 6.07745387e-02 1.44171774e-01 2.09164113e-01]\n",
      " [2.70897825e-03 6.23065010e-02 1.00619197e-02 1.85758509e-02\n",
      "  1.03715174e-01 8.63003060e-02 3.98606807e-02 1.39318882e-02\n",
      "  2.32198136e-03 2.49226004e-01 2.12848298e-02 3.89705896e-01]\n",
      " [4.25596274e-02 9.24645737e-03 1.70238502e-02 4.75285156e-03\n",
      "  1.34808160e-02 1.24006225e-02 2.38636360e-01 2.86899414e-02\n",
      "  4.46768068e-02 2.64042526e-01 1.78188726e-01 1.46301419e-01]\n",
      " [1.00742979e-03 6.30902946e-02 1.43558746e-02 6.82533681e-02\n",
      "  3.23636830e-01 1.07417203e-01 3.90379056e-02 3.58896852e-02\n",
      "  1.51114468e-03 3.19733024e-01 1.77559499e-02 8.31129588e-03]\n",
      " [5.20107755e-03 2.35906001e-02 7.96879381e-02 3.61289121e-02\n",
      "  1.36806905e-01 6.47348389e-02 3.46428901e-02 2.14637324e-01\n",
      "  3.18566002e-02 1.11173026e-01 9.31550115e-02 1.68384880e-01]]\n"
     ]
    }
   ],
   "source": [
    "# creating t x t transition matrix of tags, t = no. of tags\n",
    "# matrix(i, j) represents P(jth tag after the ith tag)\n",
    " \n",
    "tags_matrix = np.zeros((len(tags), len(tags)), dtype='float32')\n",
    "for i, t1 in enumerate(list(tags)):\n",
    "    for j, t2 in enumerate(list(tags)): \n",
    "        tags_matrix[i, j] = t2_given_t1(t2, t1)[0]/t2_given_t1(t2, t1)[1]\n",
    " \n",
    "print(tags_matrix)"
   ]
  },
  {
   "cell_type": "code",
   "execution_count": 36,
   "metadata": {
    "colab": {
     "base_uri": "https://localhost:8080/",
     "height": 426
    },
    "id": "ipEQigbpz4vQ",
    "outputId": "676dcca8-88c7-460a-8707-e01ba8c44b06"
   },
   "outputs": [
    {
     "data": {
      "text/html": [
       "\n",
       "  <div id=\"df-5e7fab0c-45b1-486d-98d6-9628d293e7e3\">\n",
       "    <div class=\"colab-df-container\">\n",
       "      <div>\n",
       "<style scoped>\n",
       "    .dataframe tbody tr th:only-of-type {\n",
       "        vertical-align: middle;\n",
       "    }\n",
       "\n",
       "    .dataframe tbody tr th {\n",
       "        vertical-align: top;\n",
       "    }\n",
       "\n",
       "    .dataframe thead th {\n",
       "        text-align: right;\n",
       "    }\n",
       "</style>\n",
       "<table border=\"1\" class=\"dataframe\">\n",
       "  <thead>\n",
       "    <tr style=\"text-align: right;\">\n",
       "      <th></th>\n",
       "      <th>CONJ</th>\n",
       "      <th>NUM</th>\n",
       "      <th>ADV</th>\n",
       "      <th>PRON</th>\n",
       "      <th>DET</th>\n",
       "      <th>ADJ</th>\n",
       "      <th>.</th>\n",
       "      <th>X</th>\n",
       "      <th>PRT</th>\n",
       "      <th>NOUN</th>\n",
       "      <th>ADP</th>\n",
       "      <th>VERB</th>\n",
       "    </tr>\n",
       "  </thead>\n",
       "  <tbody>\n",
       "    <tr>\n",
       "      <th>CONJ</th>\n",
       "      <td>0.000556</td>\n",
       "      <td>0.042825</td>\n",
       "      <td>0.054505</td>\n",
       "      <td>0.055617</td>\n",
       "      <td>0.117353</td>\n",
       "      <td>0.114016</td>\n",
       "      <td>0.034483</td>\n",
       "      <td>0.010011</td>\n",
       "      <td>0.005562</td>\n",
       "      <td>0.353726</td>\n",
       "      <td>0.053393</td>\n",
       "      <td>0.157953</td>\n",
       "    </tr>\n",
       "    <tr>\n",
       "      <th>NUM</th>\n",
       "      <td>0.013282</td>\n",
       "      <td>0.185250</td>\n",
       "      <td>0.002796</td>\n",
       "      <td>0.001049</td>\n",
       "      <td>0.003495</td>\n",
       "      <td>0.034254</td>\n",
       "      <td>0.117791</td>\n",
       "      <td>0.199581</td>\n",
       "      <td>0.030409</td>\n",
       "      <td>0.357218</td>\n",
       "      <td>0.035302</td>\n",
       "      <td>0.019574</td>\n",
       "    </tr>\n",
       "    <tr>\n",
       "      <th>ADV</th>\n",
       "      <td>0.007160</td>\n",
       "      <td>0.035402</td>\n",
       "      <td>0.075577</td>\n",
       "      <td>0.015513</td>\n",
       "      <td>0.069212</td>\n",
       "      <td>0.125696</td>\n",
       "      <td>0.140016</td>\n",
       "      <td>0.023866</td>\n",
       "      <td>0.012729</td>\n",
       "      <td>0.033015</td>\n",
       "      <td>0.120525</td>\n",
       "      <td>0.341289</td>\n",
       "    </tr>\n",
       "    <tr>\n",
       "      <th>PRON</th>\n",
       "      <td>0.006007</td>\n",
       "      <td>0.007394</td>\n",
       "      <td>0.031423</td>\n",
       "      <td>0.006007</td>\n",
       "      <td>0.010628</td>\n",
       "      <td>0.075323</td>\n",
       "      <td>0.042052</td>\n",
       "      <td>0.092884</td>\n",
       "      <td>0.010628</td>\n",
       "      <td>0.217190</td>\n",
       "      <td>0.023567</td>\n",
       "      <td>0.476895</td>\n",
       "    </tr>\n",
       "    <tr>\n",
       "      <th>DET</th>\n",
       "      <td>0.000286</td>\n",
       "      <td>0.022422</td>\n",
       "      <td>0.012568</td>\n",
       "      <td>0.003570</td>\n",
       "      <td>0.005284</td>\n",
       "      <td>0.207226</td>\n",
       "      <td>0.017852</td>\n",
       "      <td>0.045987</td>\n",
       "      <td>0.000143</td>\n",
       "      <td>0.635676</td>\n",
       "      <td>0.009569</td>\n",
       "      <td>0.039417</td>\n",
       "    </tr>\n",
       "    <tr>\n",
       "      <th>ADJ</th>\n",
       "      <td>0.016667</td>\n",
       "      <td>0.021318</td>\n",
       "      <td>0.003682</td>\n",
       "      <td>0.000581</td>\n",
       "      <td>0.003488</td>\n",
       "      <td>0.066279</td>\n",
       "      <td>0.066860</td>\n",
       "      <td>0.019186</td>\n",
       "      <td>0.011822</td>\n",
       "      <td>0.699031</td>\n",
       "      <td>0.078876</td>\n",
       "      <td>0.012209</td>\n",
       "    </tr>\n",
       "    <tr>\n",
       "      <th>.</th>\n",
       "      <td>0.057665</td>\n",
       "      <td>0.079075</td>\n",
       "      <td>0.055083</td>\n",
       "      <td>0.065304</td>\n",
       "      <td>0.173965</td>\n",
       "      <td>0.046799</td>\n",
       "      <td>0.089941</td>\n",
       "      <td>0.027219</td>\n",
       "      <td>0.002152</td>\n",
       "      <td>0.222378</td>\n",
       "      <td>0.090479</td>\n",
       "      <td>0.089833</td>\n",
       "    </tr>\n",
       "    <tr>\n",
       "      <th>X</th>\n",
       "      <td>0.009011</td>\n",
       "      <td>0.003259</td>\n",
       "      <td>0.026649</td>\n",
       "      <td>0.054640</td>\n",
       "      <td>0.055406</td>\n",
       "      <td>0.017255</td>\n",
       "      <td>0.160660</td>\n",
       "      <td>0.075920</td>\n",
       "      <td>0.183090</td>\n",
       "      <td>0.060775</td>\n",
       "      <td>0.144172</td>\n",
       "      <td>0.209164</td>\n",
       "    </tr>\n",
       "    <tr>\n",
       "      <th>PRT</th>\n",
       "      <td>0.002709</td>\n",
       "      <td>0.062307</td>\n",
       "      <td>0.010062</td>\n",
       "      <td>0.018576</td>\n",
       "      <td>0.103715</td>\n",
       "      <td>0.086300</td>\n",
       "      <td>0.039861</td>\n",
       "      <td>0.013932</td>\n",
       "      <td>0.002322</td>\n",
       "      <td>0.249226</td>\n",
       "      <td>0.021285</td>\n",
       "      <td>0.389706</td>\n",
       "    </tr>\n",
       "    <tr>\n",
       "      <th>NOUN</th>\n",
       "      <td>0.042560</td>\n",
       "      <td>0.009246</td>\n",
       "      <td>0.017024</td>\n",
       "      <td>0.004753</td>\n",
       "      <td>0.013481</td>\n",
       "      <td>0.012401</td>\n",
       "      <td>0.238636</td>\n",
       "      <td>0.028690</td>\n",
       "      <td>0.044677</td>\n",
       "      <td>0.264043</td>\n",
       "      <td>0.178189</td>\n",
       "      <td>0.146301</td>\n",
       "    </tr>\n",
       "    <tr>\n",
       "      <th>ADP</th>\n",
       "      <td>0.001007</td>\n",
       "      <td>0.063090</td>\n",
       "      <td>0.014356</td>\n",
       "      <td>0.068253</td>\n",
       "      <td>0.323637</td>\n",
       "      <td>0.107417</td>\n",
       "      <td>0.039038</td>\n",
       "      <td>0.035890</td>\n",
       "      <td>0.001511</td>\n",
       "      <td>0.319733</td>\n",
       "      <td>0.017756</td>\n",
       "      <td>0.008311</td>\n",
       "    </tr>\n",
       "    <tr>\n",
       "      <th>VERB</th>\n",
       "      <td>0.005201</td>\n",
       "      <td>0.023591</td>\n",
       "      <td>0.079688</td>\n",
       "      <td>0.036129</td>\n",
       "      <td>0.136807</td>\n",
       "      <td>0.064735</td>\n",
       "      <td>0.034643</td>\n",
       "      <td>0.214637</td>\n",
       "      <td>0.031857</td>\n",
       "      <td>0.111173</td>\n",
       "      <td>0.093155</td>\n",
       "      <td>0.168385</td>\n",
       "    </tr>\n",
       "  </tbody>\n",
       "</table>\n",
       "</div>\n",
       "      <button class=\"colab-df-convert\" onclick=\"convertToInteractive('df-5e7fab0c-45b1-486d-98d6-9628d293e7e3')\"\n",
       "              title=\"Convert this dataframe to an interactive table.\"\n",
       "              style=\"display:none;\">\n",
       "        \n",
       "  <svg xmlns=\"http://www.w3.org/2000/svg\" height=\"24px\"viewBox=\"0 0 24 24\"\n",
       "       width=\"24px\">\n",
       "    <path d=\"M0 0h24v24H0V0z\" fill=\"none\"/>\n",
       "    <path d=\"M18.56 5.44l.94 2.06.94-2.06 2.06-.94-2.06-.94-.94-2.06-.94 2.06-2.06.94zm-11 1L8.5 8.5l.94-2.06 2.06-.94-2.06-.94L8.5 2.5l-.94 2.06-2.06.94zm10 10l.94 2.06.94-2.06 2.06-.94-2.06-.94-.94-2.06-.94 2.06-2.06.94z\"/><path d=\"M17.41 7.96l-1.37-1.37c-.4-.4-.92-.59-1.43-.59-.52 0-1.04.2-1.43.59L10.3 9.45l-7.72 7.72c-.78.78-.78 2.05 0 2.83L4 21.41c.39.39.9.59 1.41.59.51 0 1.02-.2 1.41-.59l7.78-7.78 2.81-2.81c.8-.78.8-2.07 0-2.86zM5.41 20L4 18.59l7.72-7.72 1.47 1.35L5.41 20z\"/>\n",
       "  </svg>\n",
       "      </button>\n",
       "      \n",
       "  <style>\n",
       "    .colab-df-container {\n",
       "      display:flex;\n",
       "      flex-wrap:wrap;\n",
       "      gap: 12px;\n",
       "    }\n",
       "\n",
       "    .colab-df-convert {\n",
       "      background-color: #E8F0FE;\n",
       "      border: none;\n",
       "      border-radius: 50%;\n",
       "      cursor: pointer;\n",
       "      display: none;\n",
       "      fill: #1967D2;\n",
       "      height: 32px;\n",
       "      padding: 0 0 0 0;\n",
       "      width: 32px;\n",
       "    }\n",
       "\n",
       "    .colab-df-convert:hover {\n",
       "      background-color: #E2EBFA;\n",
       "      box-shadow: 0px 1px 2px rgba(60, 64, 67, 0.3), 0px 1px 3px 1px rgba(60, 64, 67, 0.15);\n",
       "      fill: #174EA6;\n",
       "    }\n",
       "\n",
       "    [theme=dark] .colab-df-convert {\n",
       "      background-color: #3B4455;\n",
       "      fill: #D2E3FC;\n",
       "    }\n",
       "\n",
       "    [theme=dark] .colab-df-convert:hover {\n",
       "      background-color: #434B5C;\n",
       "      box-shadow: 0px 1px 3px 1px rgba(0, 0, 0, 0.15);\n",
       "      filter: drop-shadow(0px 1px 2px rgba(0, 0, 0, 0.3));\n",
       "      fill: #FFFFFF;\n",
       "    }\n",
       "  </style>\n",
       "\n",
       "      <script>\n",
       "        const buttonEl =\n",
       "          document.querySelector('#df-5e7fab0c-45b1-486d-98d6-9628d293e7e3 button.colab-df-convert');\n",
       "        buttonEl.style.display =\n",
       "          google.colab.kernel.accessAllowed ? 'block' : 'none';\n",
       "\n",
       "        async function convertToInteractive(key) {\n",
       "          const element = document.querySelector('#df-5e7fab0c-45b1-486d-98d6-9628d293e7e3');\n",
       "          const dataTable =\n",
       "            await google.colab.kernel.invokeFunction('convertToInteractive',\n",
       "                                                     [key], {});\n",
       "          if (!dataTable) return;\n",
       "\n",
       "          const docLinkHtml = 'Like what you see? Visit the ' +\n",
       "            '<a target=\"_blank\" href=https://colab.research.google.com/notebooks/data_table.ipynb>data table notebook</a>'\n",
       "            + ' to learn more about interactive tables.';\n",
       "          element.innerHTML = '';\n",
       "          dataTable['output_type'] = 'display_data';\n",
       "          await google.colab.output.renderOutput(dataTable, element);\n",
       "          const docLink = document.createElement('div');\n",
       "          docLink.innerHTML = docLinkHtml;\n",
       "          element.appendChild(docLink);\n",
       "        }\n",
       "      </script>\n",
       "    </div>\n",
       "  </div>\n",
       "  "
      ],
      "text/plain": [
       "          CONJ       NUM       ADV      PRON       DET       ADJ         .  \\\n",
       "CONJ  0.000556  0.042825  0.054505  0.055617  0.117353  0.114016  0.034483   \n",
       "NUM   0.013282  0.185250  0.002796  0.001049  0.003495  0.034254  0.117791   \n",
       "ADV   0.007160  0.035402  0.075577  0.015513  0.069212  0.125696  0.140016   \n",
       "PRON  0.006007  0.007394  0.031423  0.006007  0.010628  0.075323  0.042052   \n",
       "DET   0.000286  0.022422  0.012568  0.003570  0.005284  0.207226  0.017852   \n",
       "ADJ   0.016667  0.021318  0.003682  0.000581  0.003488  0.066279  0.066860   \n",
       ".     0.057665  0.079075  0.055083  0.065304  0.173965  0.046799  0.089941   \n",
       "X     0.009011  0.003259  0.026649  0.054640  0.055406  0.017255  0.160660   \n",
       "PRT   0.002709  0.062307  0.010062  0.018576  0.103715  0.086300  0.039861   \n",
       "NOUN  0.042560  0.009246  0.017024  0.004753  0.013481  0.012401  0.238636   \n",
       "ADP   0.001007  0.063090  0.014356  0.068253  0.323637  0.107417  0.039038   \n",
       "VERB  0.005201  0.023591  0.079688  0.036129  0.136807  0.064735  0.034643   \n",
       "\n",
       "             X       PRT      NOUN       ADP      VERB  \n",
       "CONJ  0.010011  0.005562  0.353726  0.053393  0.157953  \n",
       "NUM   0.199581  0.030409  0.357218  0.035302  0.019574  \n",
       "ADV   0.023866  0.012729  0.033015  0.120525  0.341289  \n",
       "PRON  0.092884  0.010628  0.217190  0.023567  0.476895  \n",
       "DET   0.045987  0.000143  0.635676  0.009569  0.039417  \n",
       "ADJ   0.019186  0.011822  0.699031  0.078876  0.012209  \n",
       ".     0.027219  0.002152  0.222378  0.090479  0.089833  \n",
       "X     0.075920  0.183090  0.060775  0.144172  0.209164  \n",
       "PRT   0.013932  0.002322  0.249226  0.021285  0.389706  \n",
       "NOUN  0.028690  0.044677  0.264043  0.178189  0.146301  \n",
       "ADP   0.035890  0.001511  0.319733  0.017756  0.008311  \n",
       "VERB  0.214637  0.031857  0.111173  0.093155  0.168385  "
      ]
     },
     "metadata": {},
     "output_type": "display_data"
    }
   ],
   "source": [
    "# convert the matrix to a df for better readability\n",
    "tags_df = pd.DataFrame(tags_matrix, columns = list(tags), index=list(tags))\n",
    "display(tags_df)"
   ]
  },
  {
   "cell_type": "markdown",
   "metadata": {
    "id": "YROJbcHetvWt"
   },
   "source": [
    "5. Parse the first 4 rows of ‘text’ using Viterbi Parser [Use toy_pcfg1 and toy_pcfg2 to get the probabilistic context free grammars; use the PCFG suitable for each sentence] (3 marks)"
   ]
  },
  {
   "cell_type": "code",
   "execution_count": 37,
   "metadata": {
    "id": "YiWHslbl0ZT4"
   },
   "outputs": [],
   "source": [
    "def Viterbi(words, train_bag = train_tagged_words):\n",
    "    state = []\n",
    "    T = list(set([pair[1] for pair in train_bag]))\n",
    "     \n",
    "    for key, word in enumerate(words):\n",
    "        # initialise list of probability column for a given observation\n",
    "        p = [] \n",
    "        for tag in T:\n",
    "            if key == 0:\n",
    "                transition_p = tags_df.loc['.', tag]\n",
    "            else:\n",
    "                transition_p = tags_df.loc[state[-1], tag]\n",
    "                 \n",
    "            # compute emission and state probabilities\n",
    "            emission_p = word_given_tag(words[key], tag)[0]/word_given_tag(words[key], tag)[1]\n",
    "            state_probability = emission_p * transition_p    \n",
    "            p.append(state_probability)\n",
    "             \n",
    "        pmax = max(p)\n",
    "        # getting state for which probability is maximum\n",
    "        state_max = T[p.index(pmax)] \n",
    "        state.append(state_max)\n",
    "    return list(zip(words, state))"
   ]
  },
  {
   "cell_type": "code",
   "execution_count": 38,
   "metadata": {
    "id": "VJVXBeJ20jpu"
   },
   "outputs": [],
   "source": [
    "import random\n",
    "# Let's test our Viterbi algorithm on a few sample sentences of test dataset\n",
    "random.seed(2022)\n",
    " \n",
    "# choose random 10 numbers\n",
    "rndom = [random.randint(1,len(test_set)) for x in range(10)]\n",
    " \n",
    "# list of 10 sents on which we test the model\n",
    "test_run = [test_set[i] for i in rndom]\n",
    " \n",
    "# list of tagged words\n",
    "test_run_base = [tup for sent in test_run for tup in sent]\n",
    " \n",
    "# list of untagged words\n",
    "test_tagged_words = [tup[0] for sent in test_run for tup in sent]"
   ]
  },
  {
   "cell_type": "code",
   "execution_count": 39,
   "metadata": {
    "colab": {
     "base_uri": "https://localhost:8080/"
    },
    "id": "7jtuWD570vKy",
    "outputId": "563fa811-90c1-4183-da8e-81cd14fc8e41"
   },
   "outputs": [
    {
     "name": "stdout",
     "output_type": "stream",
     "text": [
      "Time taken in seconds:  70.64397120475769\n",
      "Viterbi Algorithm Accuracy:  90.87136929460581\n"
     ]
    }
   ],
   "source": [
    "start = time.time()\n",
    "tagged_seq = Viterbi(test_tagged_words)\n",
    "end = time.time()\n",
    "difference = end-start\n",
    " \n",
    "print(\"Time taken in seconds: \", difference)\n",
    " \n",
    "# accuracy\n",
    "check = [i for i, j in zip(tagged_seq, test_run_base) if i == j] \n",
    " \n",
    "accuracy = len(check)/len(tagged_seq)\n",
    "print('Viterbi Algorithm Accuracy: ',accuracy*100)"
   ]
  },
  {
   "cell_type": "code",
   "execution_count": 40,
   "metadata": {
    "id": "_YTKGTE71IhD"
   },
   "outputs": [],
   "source": [
    "# To improve the performance,we specify a rule base tagger for unknown words \n",
    "# specify patterns for tagging\n",
    "patterns = [\n",
    "    (r'.*ing$', 'VERB'),              # gerund\n",
    "    (r'.*ed$', 'VERB'),               # past tense \n",
    "    (r'.*es$', 'VERB'),               # verb    \n",
    "    (r'.*\\'s$', 'NOUN'),              # possessive nouns\n",
    "    (r'.*s$', 'NOUN'),                # plural nouns\n",
    "    (r'\\*T?\\*?-[0-9]+$', 'X'),        # X\n",
    "    (r'^-?[0-9]+(.[0-9]+)?$', 'NUM'), # cardinal numbers\n",
    "    (r'.*', 'NOUN')                   # nouns\n",
    "]\n",
    " \n",
    "# rule based tagger\n",
    "rule_based_tagger = nltk.RegexpTagger(patterns)"
   ]
  },
  {
   "cell_type": "code",
   "execution_count": 41,
   "metadata": {
    "id": "8B4AtgLZ1Tkx"
   },
   "outputs": [],
   "source": [
    "# modified Viterbi to include rule based tagger in it\n",
    "def Viterbi_rule_based(words, train_bag = train_tagged_words):\n",
    "    state = []\n",
    "    T = list(set([pair[1] for pair in train_bag]))\n",
    "     \n",
    "    for key, word in enumerate(words):\n",
    "        #initialise list of probability column for a given observation\n",
    "        p = [] \n",
    "        for tag in T:\n",
    "            if key == 0:\n",
    "                transition_p = tags_df.loc['.', tag]\n",
    "            else:\n",
    "                transition_p = tags_df.loc[state[-1], tag]\n",
    "                 \n",
    "            # compute emission and state probabilities\n",
    "            emission_p = word_given_tag(words[key], tag)[0]/word_given_tag(words[key], tag)[1]\n",
    "            state_probability = emission_p * transition_p    \n",
    "            p.append(state_probability)\n",
    "             \n",
    "        pmax = max(p)\n",
    "        state_max = rule_based_tagger.tag([word])[0][1]       \n",
    "        \n",
    "         \n",
    "        if(pmax==0):\n",
    "            state_max = rule_based_tagger.tag([word])[0][1] # assign based on rule based tagger\n",
    "        else:\n",
    "            if state_max != 'X':\n",
    "                # getting state for which probability is maximum\n",
    "                state_max = T[p.index(pmax)]                \n",
    "             \n",
    "         \n",
    "        state.append(state_max)\n",
    "    return list(zip(words, state))"
   ]
  },
  {
   "cell_type": "code",
   "execution_count": 42,
   "metadata": {
    "colab": {
     "base_uri": "https://localhost:8080/"
    },
    "id": "284medu22QLE",
    "outputId": "adfc4693-6d9d-4558-c0aa-78ebcb463d77"
   },
   "outputs": [
    {
     "name": "stdout",
     "output_type": "stream",
     "text": [
      "Time taken in seconds:  70.38118529319763\n",
      "Rule-assisted Viterbi Algorithm Accuracy:  95.850622406639\n"
     ]
    }
   ],
   "source": [
    "# test accuracy on subset of test data \n",
    "start = time.time()\n",
    "tagged_seq = Viterbi_rule_based(test_tagged_words)\n",
    "end = time.time()\n",
    "difference = end-start\n",
    " \n",
    "print(\"Time taken in seconds: \", difference)\n",
    " \n",
    "# accuracy\n",
    "check = [i for i, j in zip(tagged_seq, test_run_base) if i == j] \n",
    " \n",
    "accuracy = len(check)/len(tagged_seq)\n",
    "print('Rule-assisted Viterbi Algorithm Accuracy: ',accuracy*100)"
   ]
  },
  {
   "cell_type": "code",
   "execution_count": 43,
   "metadata": {
    "colab": {
     "base_uri": "https://localhost:8080/"
    },
    "id": "5uc8YCC82oIi",
    "outputId": "0119911b-7c15-496b-fb3a-2f0e38453910"
   },
   "outputs": [
    {
     "name": "stdout",
     "output_type": "stream",
     "text": [
      "Test sentence is: I am stopping by the bank\n",
      "Rule-assisted Viterbi:  [('I', 'PRON'), ('am', 'VERB'), ('stopping', 'VERB'), ('by', 'ADP'), ('the', 'DET'), ('bank', 'NOUN')]\n",
      "Vanilla Viterbi:  [('I', 'PRON'), ('am', 'VERB'), ('stopping', 'CONJ'), ('by', 'ADP'), ('the', 'DET'), ('bank', 'NOUN')]\n"
     ]
    }
   ],
   "source": [
    "# Check how a sentence is tagged by the two POS taggers and compare them\n",
    "test_sent = \"I am stopping by the bank\"\n",
    "# test_sent = \"my whole body feels itchy and like its on fire\"\n",
    "pred_tags_rule = Viterbi_rule_based(test_sent.split())\n",
    "pred_tags_withoutRules = Viterbi(test_sent.split())\n",
    "print(\"Test sentence is:\",test_sent)\n",
    "print(\"Rule-assisted Viterbi: \", pred_tags_rule)\n",
    "print(\"Vanilla Viterbi: \", pred_tags_withoutRules)\n"
   ]
  },
  {
   "cell_type": "code",
   "execution_count": 44,
   "metadata": {
    "id": "5a3EBn_y7gLx"
   },
   "outputs": [],
   "source": [
    "#import the nltk library\n",
    "import nltk\n",
    "#define the text\n",
    "text = 'Some drivers desert their passengers when they get to the desert'\n",
    "#define an empty list to store the words and tags\n",
    "def nltk_pos_tagger(text):\n",
    "\n",
    "  tags = []\n",
    "  #tokenize the sentence\n",
    "  tokenized_sentence = nltk.sent_tokenize(text)\n",
    "  #loop over the list of sentence\n",
    "  for tokenized_text in tokenized_sentence:\n",
    "      #tokenize the sentence into list of words\n",
    "      tokens = nltk.word_tokenize(tokenized_text)\n",
    "      #POS tag the words\n",
    "      tokens = nltk.pos_tag(tokens)\n",
    "      #Populate each word and its corresponding tag to the list\n",
    "      tags.append(tokens)   \n",
    "  return tags"
   ]
  },
  {
   "cell_type": "code",
   "execution_count": 45,
   "metadata": {
    "colab": {
     "base_uri": "https://localhost:8080/",
     "height": 785
    },
    "id": "8GEkVRxb9eBa",
    "outputId": "e85d24e5-4d8b-48e1-d01d-f00ac5cd1d74"
   },
   "outputs": [
    {
     "name": "stderr",
     "output_type": "stream",
     "text": [
      "[nltk_data] Downloading package punkt to /root/nltk_data...\n",
      "[nltk_data]   Package punkt is already up-to-date!\n",
      "[nltk_data] Downloading package averaged_perceptron_tagger to\n",
      "[nltk_data]     /root/nltk_data...\n",
      "[nltk_data]   Package averaged_perceptron_tagger is already up-to-\n",
      "[nltk_data]       date!\n"
     ]
    },
    {
     "data": {
      "text/html": [
       "\n",
       "  <div id=\"df-8ca90612-e16b-4725-a899-6d0fe7369354\">\n",
       "    <div class=\"colab-df-container\">\n",
       "      <div>\n",
       "<style scoped>\n",
       "    .dataframe tbody tr th:only-of-type {\n",
       "        vertical-align: middle;\n",
       "    }\n",
       "\n",
       "    .dataframe tbody tr th {\n",
       "        vertical-align: top;\n",
       "    }\n",
       "\n",
       "    .dataframe thead th {\n",
       "        text-align: right;\n",
       "    }\n",
       "</style>\n",
       "<table border=\"1\" class=\"dataframe\">\n",
       "  <thead>\n",
       "    <tr style=\"text-align: right;\">\n",
       "      <th></th>\n",
       "      <th>target</th>\n",
       "      <th>text</th>\n",
       "      <th>proc_text</th>\n",
       "    </tr>\n",
       "  </thead>\n",
       "  <tbody>\n",
       "    <tr>\n",
       "      <th>618804</th>\n",
       "      <td>Negative</td>\n",
       "      <td>@Nikki_Perry no! can't u come later? i will po...</td>\n",
       "      <td>u come later post story</td>\n",
       "    </tr>\n",
       "    <tr>\n",
       "      <th>750396</th>\n",
       "      <td>Negative</td>\n",
       "      <td>hmmm... i miss my laptop already, i cant go on...</td>\n",
       "      <td>hmmm miss laptop already cant go sims 3 look p...</td>\n",
       "    </tr>\n",
       "    <tr>\n",
       "      <th>762566</th>\n",
       "      <td>Negative</td>\n",
       "      <td>@lele2lele yheaa.i found out im leavin THURSDA...</td>\n",
       "      <td>yheaa found im leavin thursday ima let lady to...</td>\n",
       "    </tr>\n",
       "    <tr>\n",
       "      <th>972921</th>\n",
       "      <td>Positive</td>\n",
       "      <td>yay people i actually know on twitter!! Alyssa...</td>\n",
       "      <td>yay people actually know twitter alyssa kaleigh</td>\n",
       "    </tr>\n",
       "  </tbody>\n",
       "</table>\n",
       "</div>\n",
       "      <button class=\"colab-df-convert\" onclick=\"convertToInteractive('df-8ca90612-e16b-4725-a899-6d0fe7369354')\"\n",
       "              title=\"Convert this dataframe to an interactive table.\"\n",
       "              style=\"display:none;\">\n",
       "        \n",
       "  <svg xmlns=\"http://www.w3.org/2000/svg\" height=\"24px\"viewBox=\"0 0 24 24\"\n",
       "       width=\"24px\">\n",
       "    <path d=\"M0 0h24v24H0V0z\" fill=\"none\"/>\n",
       "    <path d=\"M18.56 5.44l.94 2.06.94-2.06 2.06-.94-2.06-.94-.94-2.06-.94 2.06-2.06.94zm-11 1L8.5 8.5l.94-2.06 2.06-.94-2.06-.94L8.5 2.5l-.94 2.06-2.06.94zm10 10l.94 2.06.94-2.06 2.06-.94-2.06-.94-.94-2.06-.94 2.06-2.06.94z\"/><path d=\"M17.41 7.96l-1.37-1.37c-.4-.4-.92-.59-1.43-.59-.52 0-1.04.2-1.43.59L10.3 9.45l-7.72 7.72c-.78.78-.78 2.05 0 2.83L4 21.41c.39.39.9.59 1.41.59.51 0 1.02-.2 1.41-.59l7.78-7.78 2.81-2.81c.8-.78.8-2.07 0-2.86zM5.41 20L4 18.59l7.72-7.72 1.47 1.35L5.41 20z\"/>\n",
       "  </svg>\n",
       "      </button>\n",
       "      \n",
       "  <style>\n",
       "    .colab-df-container {\n",
       "      display:flex;\n",
       "      flex-wrap:wrap;\n",
       "      gap: 12px;\n",
       "    }\n",
       "\n",
       "    .colab-df-convert {\n",
       "      background-color: #E8F0FE;\n",
       "      border: none;\n",
       "      border-radius: 50%;\n",
       "      cursor: pointer;\n",
       "      display: none;\n",
       "      fill: #1967D2;\n",
       "      height: 32px;\n",
       "      padding: 0 0 0 0;\n",
       "      width: 32px;\n",
       "    }\n",
       "\n",
       "    .colab-df-convert:hover {\n",
       "      background-color: #E2EBFA;\n",
       "      box-shadow: 0px 1px 2px rgba(60, 64, 67, 0.3), 0px 1px 3px 1px rgba(60, 64, 67, 0.15);\n",
       "      fill: #174EA6;\n",
       "    }\n",
       "\n",
       "    [theme=dark] .colab-df-convert {\n",
       "      background-color: #3B4455;\n",
       "      fill: #D2E3FC;\n",
       "    }\n",
       "\n",
       "    [theme=dark] .colab-df-convert:hover {\n",
       "      background-color: #434B5C;\n",
       "      box-shadow: 0px 1px 3px 1px rgba(0, 0, 0, 0.15);\n",
       "      filter: drop-shadow(0px 1px 2px rgba(0, 0, 0, 0.3));\n",
       "      fill: #FFFFFF;\n",
       "    }\n",
       "  </style>\n",
       "\n",
       "      <script>\n",
       "        const buttonEl =\n",
       "          document.querySelector('#df-8ca90612-e16b-4725-a899-6d0fe7369354 button.colab-df-convert');\n",
       "        buttonEl.style.display =\n",
       "          google.colab.kernel.accessAllowed ? 'block' : 'none';\n",
       "\n",
       "        async function convertToInteractive(key) {\n",
       "          const element = document.querySelector('#df-8ca90612-e16b-4725-a899-6d0fe7369354');\n",
       "          const dataTable =\n",
       "            await google.colab.kernel.invokeFunction('convertToInteractive',\n",
       "                                                     [key], {});\n",
       "          if (!dataTable) return;\n",
       "\n",
       "          const docLinkHtml = 'Like what you see? Visit the ' +\n",
       "            '<a target=\"_blank\" href=https://colab.research.google.com/notebooks/data_table.ipynb>data table notebook</a>'\n",
       "            + ' to learn more about interactive tables.';\n",
       "          element.innerHTML = '';\n",
       "          dataTable['output_type'] = 'display_data';\n",
       "          await google.colab.output.renderOutput(dataTable, element);\n",
       "          const docLink = document.createElement('div');\n",
       "          docLink.innerHTML = docLinkHtml;\n",
       "          element.appendChild(docLink);\n",
       "        }\n",
       "      </script>\n",
       "    </div>\n",
       "  </div>\n",
       "  "
      ],
      "text/plain": [
       "          target                                               text  \\\n",
       "618804  Negative  @Nikki_Perry no! can't u come later? i will po...   \n",
       "750396  Negative  hmmm... i miss my laptop already, i cant go on...   \n",
       "762566  Negative  @lele2lele yheaa.i found out im leavin THURSDA...   \n",
       "972921  Positive  yay people i actually know on twitter!! Alyssa...   \n",
       "\n",
       "                                                proc_text  \n",
       "618804                            u come later post story  \n",
       "750396  hmmm miss laptop already cant go sims 3 look p...  \n",
       "762566  yheaa found im leavin thursday ima let lady to...  \n",
       "972921    yay people actually know twitter alyssa kaleigh  "
      ]
     },
     "metadata": {},
     "output_type": "display_data"
    },
    {
     "name": "stdout",
     "output_type": "stream",
     "text": [
      "\n",
      "*************\n",
      "\n",
      "test #0:  @Nikki_Perry no! can't u come later? i will post my story?! \n",
      "NLTK POS Tagger:  [[('@', 'NN'), ('Nikki_Perry', 'NNP'), ('no', 'DT'), ('!', '.')], [('ca', 'MD'), (\"n't\", 'RB'), ('u', 'VB'), ('come', 'VB'), ('later', 'RB'), ('?', '.')], [('i', 'NN'), ('will', 'MD'), ('post', 'VB'), ('my', 'PRP$'), ('story', 'NN'), ('?', '.')], [('!', '.')]]\n",
      "Rule-assisted Viterbi:  [('@Nikki_Perry', 'NOUN'), ('no!', 'NOUN'), (\"can't\", 'NOUN'), ('u', 'NOUN'), ('come', 'VERB'), ('later?', 'NOUN'), ('i', 'NOUN'), ('will', 'VERB'), ('post', 'VERB'), ('my', 'PRON'), ('story?!', 'NOUN')]\n",
      "Vanilla Viterbi:  [('@Nikki_Perry', 'CONJ'), ('no!', 'CONJ'), (\"can't\", 'CONJ'), ('u', 'CONJ'), ('come', 'VERB'), ('later?', 'CONJ'), ('i', 'CONJ'), ('will', 'VERB'), ('post', 'VERB'), ('my', 'PRON'), ('story?!', 'CONJ')]\n",
      "\n",
      "*************\n",
      "\n",
      "test #1:  hmmm... i miss my laptop already, i cant go on the sims 3 or look at the pictures i may not see again \n",
      "NLTK POS Tagger:  [[('hmmm', 'NN'), ('...', ':'), ('i', 'NN'), ('miss', 'VBP'), ('my', 'PRP$'), ('laptop', 'JJ'), ('already', 'RB'), (',', ','), ('i', 'NN'), ('cant', 'VBP'), ('go', 'VB'), ('on', 'IN'), ('the', 'DT'), ('sims', 'NNS'), ('3', 'CD'), ('or', 'CC'), ('look', 'VB'), ('at', 'IN'), ('the', 'DT'), ('pictures', 'NNS'), ('i', 'VBP'), ('may', 'MD'), ('not', 'RB'), ('see', 'VB'), ('again', 'RB')]]\n",
      "Rule-assisted Viterbi:  [('hmmm...', 'NOUN'), ('i', 'NOUN'), ('miss', 'NOUN'), ('my', 'PRON'), ('laptop', 'NOUN'), ('already,', 'NOUN'), ('i', 'NOUN'), ('cant', 'NOUN'), ('go', 'VERB'), ('on', 'ADP'), ('the', 'DET'), ('sims', 'NOUN'), ('3', 'NUM'), ('or', 'CONJ'), ('look', 'VERB'), ('at', 'ADP'), ('the', 'DET'), ('pictures', 'VERB'), ('i', 'NOUN'), ('may', 'VERB'), ('not', 'ADV'), ('see', 'VERB'), ('again', 'ADV')]\n",
      "Vanilla Viterbi:  [('hmmm...', 'CONJ'), ('i', 'CONJ'), ('miss', 'CONJ'), ('my', 'PRON'), ('laptop', 'CONJ'), ('already,', 'CONJ'), ('i', 'CONJ'), ('cant', 'CONJ'), ('go', 'VERB'), ('on', 'ADP'), ('the', 'DET'), ('sims', 'CONJ'), ('3', 'NUM'), ('or', 'CONJ'), ('look', 'VERB'), ('at', 'ADP'), ('the', 'DET'), ('pictures', 'CONJ'), ('i', 'CONJ'), ('may', 'VERB'), ('not', 'ADV'), ('see', 'VERB'), ('again', 'ADV')]\n",
      "\n",
      "*************\n",
      "\n",
      "test #2:  @lele2lele yheaa.i found out im leavin THURSDAY  ima just let this lady touch my hair up when i get back .\n",
      "NLTK POS Tagger:  [[('@', 'NN'), ('lele2lele', 'NN'), ('yheaa.i', 'NN'), ('found', 'VBD'), ('out', 'RP'), ('im', 'JJ'), ('leavin', 'NN'), ('THURSDAY', 'NNP'), ('ima', 'VBZ'), ('just', 'RB'), ('let', 'VB'), ('this', 'DT'), ('lady', 'NN'), ('touch', 'VB'), ('my', 'PRP$'), ('hair', 'NN'), ('up', 'IN'), ('when', 'WRB'), ('i', 'NN'), ('get', 'VBP'), ('back', 'RB'), ('.', '.')]]\n",
      "Rule-assisted Viterbi:  [('@lele2lele', 'NOUN'), ('yheaa.i', 'NOUN'), ('found', 'VERB'), ('out', 'PRT'), ('im', 'NOUN'), ('leavin', 'NOUN'), ('THURSDAY', 'NOUN'), ('ima', 'NOUN'), ('just', 'ADV'), ('let', 'VERB'), ('this', 'DET'), ('lady', 'NOUN'), ('touch', 'VERB'), ('my', 'PRON'), ('hair', 'NOUN'), ('up', 'PRT'), ('when', 'ADV'), ('i', 'NOUN'), ('get', 'VERB'), ('back', 'ADV'), ('.', '.')]\n",
      "Vanilla Viterbi:  [('@lele2lele', 'CONJ'), ('yheaa.i', 'CONJ'), ('found', 'VERB'), ('out', 'PRT'), ('im', 'CONJ'), ('leavin', 'CONJ'), ('THURSDAY', 'CONJ'), ('ima', 'CONJ'), ('just', 'ADV'), ('let', 'VERB'), ('this', 'DET'), ('lady', 'NOUN'), ('touch', 'VERB'), ('my', 'PRON'), ('hair', 'NOUN'), ('up', 'PRT'), ('when', 'ADV'), ('i', 'CONJ'), ('get', 'VERB'), ('back', 'ADV'), ('.', '.')]\n",
      "\n",
      "*************\n",
      "\n",
      "test #3:  yay people i actually know on twitter!! Alyssa and kaleigh \n",
      "NLTK POS Tagger:  [[('yay', 'JJ'), ('people', 'NNS'), ('i', 'VBP'), ('actually', 'RB'), ('know', 'VBP'), ('on', 'IN'), ('twitter', 'NN'), ('!', '.'), ('!', '.')], [('Alyssa', 'NNP'), ('and', 'CC'), ('kaleigh', 'VB')]]\n",
      "Rule-assisted Viterbi:  [('yay', 'NOUN'), ('people', 'NOUN'), ('i', 'NOUN'), ('actually', 'ADV'), ('know', 'VERB'), ('on', 'ADP'), ('twitter!!', 'NOUN'), ('Alyssa', 'NOUN'), ('and', 'CONJ'), ('kaleigh', 'NOUN')]\n",
      "Vanilla Viterbi:  [('yay', 'CONJ'), ('people', 'NOUN'), ('i', 'CONJ'), ('actually', 'ADV'), ('know', 'VERB'), ('on', 'ADP'), ('twitter!!', 'CONJ'), ('Alyssa', 'CONJ'), ('and', 'CONJ'), ('kaleigh', 'CONJ')]\n"
     ]
    }
   ],
   "source": [
    "nltk.download('punkt')\n",
    "nltk.download('averaged_perceptron_tagger')\n",
    "\n",
    "# sample 4 random cases to test\n",
    "sample_cases = text_data.sample(n=4)\n",
    "display(sample_cases)\n",
    "\n",
    "# fetch the `text` field\n",
    "sample_texts = sample_cases[\"text\"].values.tolist()\n",
    "\n",
    "for ix, tc in enumerate(sample_texts):\n",
    "  print(\"\\n*************\\n\")\n",
    "  print(f\"test #{ix}: \", tc)\n",
    "\n",
    "  pred_tags_rule = Viterbi_rule_based(tc.split())\n",
    "  pred_tags_withoutRules = Viterbi(tc.split())\n",
    "  pred_nltk = nltk_pos_tagger(tc)\n",
    "\n",
    "  print(\"NLTK POS Tagger: \", pred_nltk)\n",
    "  print(\"Rule-assisted Viterbi: \", pred_tags_rule)\n",
    "  print(\"Vanilla Viterbi: \", pred_tags_withoutRules)"
   ]
  },
  {
   "cell_type": "code",
   "execution_count": 46,
   "metadata": {
    "colab": {
     "base_uri": "https://localhost:8080/"
    },
    "id": "jBOY7ky6o1-u",
    "outputId": "58707c82-6f08-4c77-c697-e6d9e3094218"
   },
   "outputs": [
    {
     "name": "stdout",
     "output_type": "stream",
     "text": [
      "Test Sentence:  The Ministry of International Trade and Industry summoned executives from the companies *-1 to `` make sure 0 they understood '' the concern about such practices , according to a government spokesman .\n",
      "Sentence Index:  1007\n",
      "\n",
      "HMM Tagger: \n",
      "The ->  DT\n",
      "Ministry ->  NNP\n",
      "of ->  IN\n",
      "International ->  NNP\n",
      "Trade ->  NNP\n",
      "and ->  CC\n",
      "Industry ->  NNP\n",
      "summoned ->  POS\n",
      "executives ->  NNS\n",
      "from ->  IN\n",
      "the ->  DT\n",
      "companies ->  NNS\n",
      "*-1 ->  -NONE-\n",
      "to ->  TO\n",
      "`` ->  ``\n",
      "make ->  VBP\n",
      "sure ->  VBN\n",
      "0 ->  -NONE-\n",
      "they ->  PRP\n",
      "understood ->  .\n",
      "'' ->  ''\n",
      "the ->  DT\n",
      "concern ->  NN\n",
      "about ->  IN\n",
      "such ->  JJ\n",
      "practices ->  NNS\n",
      ", ->  ,\n",
      "according ->  VBG\n",
      "to ->  TO\n",
      "a ->  DT\n",
      "government ->  NN\n",
      "spokesman ->  NN\n",
      ". ->  .\n",
      "\n",
      "NLTK Tagger: \n",
      "The ->  DT\n",
      "Ministry ->  NNP\n",
      "of ->  IN\n",
      "International ->  NNP\n",
      "Trade ->  NNP\n",
      "and ->  CC\n",
      "Industry ->  NNP\n",
      "summoned ->  VBD\n",
      "executives ->  NNS\n",
      "from ->  IN\n",
      "the ->  DT\n",
      "companies ->  NNS\n",
      "* ->  VBP\n",
      "-1 ->  RB\n",
      "to ->  TO\n",
      "`` ->  ``\n",
      "make ->  VB\n",
      "sure ->  JJ\n",
      "0 ->  CD\n",
      "they ->  PRP\n",
      "understood ->  VBD\n",
      "`` ->  ``\n",
      "the ->  DT\n",
      "concern ->  NN\n",
      "about ->  IN\n",
      "such ->  JJ\n",
      "practices ->  NNS\n",
      ", ->  ,\n",
      "according ->  VBG\n",
      "to ->  TO\n",
      "a ->  DT\n",
      "government ->  NN\n",
      "spokesman ->  NN\n",
      ". ->  .\n"
     ]
    }
   ],
   "source": [
    "import nltk\n",
    "import random\n",
    "\n",
    "TRAIN_SIZE = 1000\n",
    "penn_tagset = nltk.corpus.treebank.tagged_sents()[:TRAIN_SIZE]\n",
    "hmm_tagger = nltk.HiddenMarkovModelTagger.train(penn_tagset)\n",
    "\n",
    "sent_idx = TRAIN_SIZE + random.randrange(1,10)\n",
    "sent = nltk.corpus.treebank.sents()[sent_idx]\n",
    "print(\"Test Sentence: \", \" \".join(sent))\n",
    "print(\"Sentence Index: \", sent_idx)\n",
    "\n",
    "print(\"\\nHMM Tagger: \")\n",
    "for w,t in hmm_tagger.tag(sent):\n",
    "  print(w, \"-> \", t)\n",
    "\n",
    "pred_nltk = nltk_pos_tagger(\" \".join(sent))\n",
    "\n",
    "print(\"\\nNLTK Tagger: \")\n",
    "for w,t in pred_nltk[0]:\n",
    "  print(w, \"-> \", t)\n",
    "\n"
   ]
  },
  {
   "cell_type": "code",
   "execution_count": 46,
   "metadata": {
    "id": "23Qxf8PPRh1-"
   },
   "outputs": [],
   "source": []
  }
 ],
 "metadata": {
  "accelerator": "GPU",
  "colab": {
   "collapsed_sections": [],
   "provenance": []
  },
  "gpuClass": "standard",
  "kernelspec": {
   "display_name": "Python 3 (ipykernel)",
   "language": "python",
   "name": "python3"
  },
  "language_info": {
   "codemirror_mode": {
    "name": "ipython",
    "version": 3
   },
   "file_extension": ".py",
   "mimetype": "text/x-python",
   "name": "python",
   "nbconvert_exporter": "python",
   "pygments_lexer": "ipython3",
   "version": "3.9.5"
  }
 },
 "nbformat": 4,
 "nbformat_minor": 1
}
